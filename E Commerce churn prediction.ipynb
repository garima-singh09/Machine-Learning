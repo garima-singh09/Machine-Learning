{
 "cells": [
  {
   "cell_type": "code",
   "execution_count": 1,
   "metadata": {},
   "outputs": [],
   "source": [
    "import numpy as np\n",
    "import pandas as pd\n",
    "import matplotlib.pyplot as plt\n",
    "import seaborn as sns\n",
    "%matplotlib inline"
   ]
  },
  {
   "cell_type": "code",
   "execution_count": null,
   "metadata": {},
   "outputs": [],
   "source": []
  },
  {
   "cell_type": "code",
   "execution_count": 2,
   "metadata": {},
   "outputs": [
    {
     "data": {
      "text/html": [
       "<div>\n",
       "<style scoped>\n",
       "    .dataframe tbody tr th:only-of-type {\n",
       "        vertical-align: middle;\n",
       "    }\n",
       "\n",
       "    .dataframe tbody tr th {\n",
       "        vertical-align: top;\n",
       "    }\n",
       "\n",
       "    .dataframe thead th {\n",
       "        text-align: right;\n",
       "    }\n",
       "</style>\n",
       "<table border=\"1\" class=\"dataframe\">\n",
       "  <thead>\n",
       "    <tr style=\"text-align: right;\">\n",
       "      <th></th>\n",
       "      <th>CustomerID</th>\n",
       "      <th>Churn</th>\n",
       "      <th>Tenure</th>\n",
       "      <th>PreferredLoginDevice</th>\n",
       "      <th>CityTier</th>\n",
       "      <th>WarehouseToHome</th>\n",
       "      <th>PreferredPaymentMode</th>\n",
       "      <th>Gender</th>\n",
       "      <th>HourSpendOnApp</th>\n",
       "      <th>NumberOfDeviceRegistered</th>\n",
       "      <th>PreferedOrderCat</th>\n",
       "      <th>SatisfactionScore</th>\n",
       "      <th>MaritalStatus</th>\n",
       "      <th>NumberOfAddress</th>\n",
       "      <th>Complain</th>\n",
       "      <th>OrderAmountHikeFromlastYear</th>\n",
       "      <th>CouponUsed</th>\n",
       "      <th>OrderCount</th>\n",
       "      <th>DaySinceLastOrder</th>\n",
       "      <th>CashbackAmount</th>\n",
       "    </tr>\n",
       "  </thead>\n",
       "  <tbody>\n",
       "    <tr>\n",
       "      <th>0</th>\n",
       "      <td>50001</td>\n",
       "      <td>1</td>\n",
       "      <td>4.0</td>\n",
       "      <td>Mobile Phone</td>\n",
       "      <td>3</td>\n",
       "      <td>6.0</td>\n",
       "      <td>Debit Card</td>\n",
       "      <td>Female</td>\n",
       "      <td>3.0</td>\n",
       "      <td>3</td>\n",
       "      <td>Laptop &amp; Accessory</td>\n",
       "      <td>2</td>\n",
       "      <td>Single</td>\n",
       "      <td>9</td>\n",
       "      <td>1</td>\n",
       "      <td>11.0</td>\n",
       "      <td>1.0</td>\n",
       "      <td>1.0</td>\n",
       "      <td>5.0</td>\n",
       "      <td>159.93</td>\n",
       "    </tr>\n",
       "    <tr>\n",
       "      <th>1</th>\n",
       "      <td>50002</td>\n",
       "      <td>1</td>\n",
       "      <td>NaN</td>\n",
       "      <td>Phone</td>\n",
       "      <td>1</td>\n",
       "      <td>8.0</td>\n",
       "      <td>UPI</td>\n",
       "      <td>Male</td>\n",
       "      <td>3.0</td>\n",
       "      <td>4</td>\n",
       "      <td>Mobile</td>\n",
       "      <td>3</td>\n",
       "      <td>Single</td>\n",
       "      <td>7</td>\n",
       "      <td>1</td>\n",
       "      <td>15.0</td>\n",
       "      <td>0.0</td>\n",
       "      <td>1.0</td>\n",
       "      <td>0.0</td>\n",
       "      <td>120.90</td>\n",
       "    </tr>\n",
       "    <tr>\n",
       "      <th>2</th>\n",
       "      <td>50003</td>\n",
       "      <td>1</td>\n",
       "      <td>NaN</td>\n",
       "      <td>Phone</td>\n",
       "      <td>1</td>\n",
       "      <td>30.0</td>\n",
       "      <td>Debit Card</td>\n",
       "      <td>Male</td>\n",
       "      <td>2.0</td>\n",
       "      <td>4</td>\n",
       "      <td>Mobile</td>\n",
       "      <td>3</td>\n",
       "      <td>Single</td>\n",
       "      <td>6</td>\n",
       "      <td>1</td>\n",
       "      <td>14.0</td>\n",
       "      <td>0.0</td>\n",
       "      <td>1.0</td>\n",
       "      <td>3.0</td>\n",
       "      <td>120.28</td>\n",
       "    </tr>\n",
       "    <tr>\n",
       "      <th>3</th>\n",
       "      <td>50004</td>\n",
       "      <td>1</td>\n",
       "      <td>0.0</td>\n",
       "      <td>Phone</td>\n",
       "      <td>3</td>\n",
       "      <td>15.0</td>\n",
       "      <td>Debit Card</td>\n",
       "      <td>Male</td>\n",
       "      <td>2.0</td>\n",
       "      <td>4</td>\n",
       "      <td>Laptop &amp; Accessory</td>\n",
       "      <td>5</td>\n",
       "      <td>Single</td>\n",
       "      <td>8</td>\n",
       "      <td>0</td>\n",
       "      <td>23.0</td>\n",
       "      <td>0.0</td>\n",
       "      <td>1.0</td>\n",
       "      <td>3.0</td>\n",
       "      <td>134.07</td>\n",
       "    </tr>\n",
       "    <tr>\n",
       "      <th>4</th>\n",
       "      <td>50005</td>\n",
       "      <td>1</td>\n",
       "      <td>0.0</td>\n",
       "      <td>Phone</td>\n",
       "      <td>1</td>\n",
       "      <td>12.0</td>\n",
       "      <td>CC</td>\n",
       "      <td>Male</td>\n",
       "      <td>NaN</td>\n",
       "      <td>3</td>\n",
       "      <td>Mobile</td>\n",
       "      <td>5</td>\n",
       "      <td>Single</td>\n",
       "      <td>3</td>\n",
       "      <td>0</td>\n",
       "      <td>11.0</td>\n",
       "      <td>1.0</td>\n",
       "      <td>1.0</td>\n",
       "      <td>3.0</td>\n",
       "      <td>129.60</td>\n",
       "    </tr>\n",
       "  </tbody>\n",
       "</table>\n",
       "</div>"
      ],
      "text/plain": [
       "   CustomerID  Churn  Tenure PreferredLoginDevice  CityTier  WarehouseToHome  \\\n",
       "0       50001      1     4.0         Mobile Phone         3              6.0   \n",
       "1       50002      1     NaN                Phone         1              8.0   \n",
       "2       50003      1     NaN                Phone         1             30.0   \n",
       "3       50004      1     0.0                Phone         3             15.0   \n",
       "4       50005      1     0.0                Phone         1             12.0   \n",
       "\n",
       "  PreferredPaymentMode  Gender  HourSpendOnApp  NumberOfDeviceRegistered  \\\n",
       "0           Debit Card  Female             3.0                         3   \n",
       "1                  UPI    Male             3.0                         4   \n",
       "2           Debit Card    Male             2.0                         4   \n",
       "3           Debit Card    Male             2.0                         4   \n",
       "4                   CC    Male             NaN                         3   \n",
       "\n",
       "     PreferedOrderCat  SatisfactionScore MaritalStatus  NumberOfAddress  \\\n",
       "0  Laptop & Accessory                  2        Single                9   \n",
       "1              Mobile                  3        Single                7   \n",
       "2              Mobile                  3        Single                6   \n",
       "3  Laptop & Accessory                  5        Single                8   \n",
       "4              Mobile                  5        Single                3   \n",
       "\n",
       "   Complain  OrderAmountHikeFromlastYear  CouponUsed  OrderCount  \\\n",
       "0         1                         11.0         1.0         1.0   \n",
       "1         1                         15.0         0.0         1.0   \n",
       "2         1                         14.0         0.0         1.0   \n",
       "3         0                         23.0         0.0         1.0   \n",
       "4         0                         11.0         1.0         1.0   \n",
       "\n",
       "   DaySinceLastOrder  CashbackAmount  \n",
       "0                5.0          159.93  \n",
       "1                0.0          120.90  \n",
       "2                3.0          120.28  \n",
       "3                3.0          134.07  \n",
       "4                3.0          129.60  "
      ]
     },
     "execution_count": 2,
     "metadata": {},
     "output_type": "execute_result"
    }
   ],
   "source": [
    "#reading the dataset\n",
    "df=pd.read_excel(\"E Commerce Dataset.xlsx\",sheet_name='E Comm')\n",
    "df.head()"
   ]
  },
  {
   "cell_type": "code",
   "execution_count": null,
   "metadata": {},
   "outputs": [],
   "source": []
  },
  {
   "cell_type": "code",
   "execution_count": 3,
   "metadata": {},
   "outputs": [
    {
     "data": {
      "text/plain": [
       "(5630, 20)"
      ]
     },
     "execution_count": 3,
     "metadata": {},
     "output_type": "execute_result"
    }
   ],
   "source": [
    "#checking the dimension of the dataset\n",
    "df.shape"
   ]
  },
  {
   "cell_type": "code",
   "execution_count": 4,
   "metadata": {},
   "outputs": [
    {
     "data": {
      "text/plain": [
       "0"
      ]
     },
     "execution_count": 4,
     "metadata": {},
     "output_type": "execute_result"
    }
   ],
   "source": [
    "df.duplicated().sum()"
   ]
  },
  {
   "cell_type": "code",
   "execution_count": null,
   "metadata": {},
   "outputs": [],
   "source": []
  },
  {
   "cell_type": "code",
   "execution_count": 5,
   "metadata": {},
   "outputs": [
    {
     "data": {
      "text/plain": [
       "CustomerID                       0\n",
       "Churn                            0\n",
       "Tenure                         264\n",
       "PreferredLoginDevice             0\n",
       "CityTier                         0\n",
       "WarehouseToHome                251\n",
       "PreferredPaymentMode             0\n",
       "Gender                           0\n",
       "HourSpendOnApp                 255\n",
       "NumberOfDeviceRegistered         0\n",
       "PreferedOrderCat                 0\n",
       "SatisfactionScore                0\n",
       "MaritalStatus                    0\n",
       "NumberOfAddress                  0\n",
       "Complain                         0\n",
       "OrderAmountHikeFromlastYear    265\n",
       "CouponUsed                     256\n",
       "OrderCount                     258\n",
       "DaySinceLastOrder              307\n",
       "CashbackAmount                   0\n",
       "dtype: int64"
      ]
     },
     "execution_count": 5,
     "metadata": {},
     "output_type": "execute_result"
    }
   ],
   "source": [
    "#checking for null values\n",
    "df.isnull().sum()"
   ]
  },
  {
   "cell_type": "code",
   "execution_count": 6,
   "metadata": {},
   "outputs": [
    {
     "data": {
      "text/plain": [
       "CustomerID                       int64\n",
       "Churn                            int64\n",
       "Tenure                         float64\n",
       "PreferredLoginDevice            object\n",
       "CityTier                         int64\n",
       "WarehouseToHome                float64\n",
       "PreferredPaymentMode            object\n",
       "Gender                          object\n",
       "HourSpendOnApp                 float64\n",
       "NumberOfDeviceRegistered         int64\n",
       "PreferedOrderCat                object\n",
       "SatisfactionScore                int64\n",
       "MaritalStatus                   object\n",
       "NumberOfAddress                  int64\n",
       "Complain                         int64\n",
       "OrderAmountHikeFromlastYear    float64\n",
       "CouponUsed                     float64\n",
       "OrderCount                     float64\n",
       "DaySinceLastOrder              float64\n",
       "CashbackAmount                 float64\n",
       "dtype: object"
      ]
     },
     "execution_count": 6,
     "metadata": {},
     "output_type": "execute_result"
    }
   ],
   "source": [
    "df.dtypes"
   ]
  },
  {
   "cell_type": "markdown",
   "metadata": {},
   "source": [
    "#### Value counts of each of the categorical variables\n"
   ]
  },
  {
   "cell_type": "code",
   "execution_count": 7,
   "metadata": {},
   "outputs": [
    {
     "name": "stdout",
     "output_type": "stream",
     "text": [
      "PreferredLoginDevice\n",
      "\n",
      "The values are:\n",
      "Mobile Phone    2765\n",
      "Computer        1634\n",
      "Phone           1231\n",
      "Name: PreferredLoginDevice, dtype: int64\n",
      "\n",
      "PreferredPaymentMode\n",
      "\n",
      "The values are:\n",
      "Debit Card          2314\n",
      "Credit Card         1501\n",
      "E wallet             614\n",
      "UPI                  414\n",
      "COD                  365\n",
      "CC                   273\n",
      "Cash on Delivery     149\n",
      "Name: PreferredPaymentMode, dtype: int64\n",
      "\n",
      "Gender\n",
      "\n",
      "The values are:\n",
      "Male      3384\n",
      "Female    2246\n",
      "Name: Gender, dtype: int64\n",
      "\n",
      "PreferedOrderCat\n",
      "\n",
      "The values are:\n",
      "Laptop & Accessory    2050\n",
      "Mobile Phone          1271\n",
      "Fashion                826\n",
      "Mobile                 809\n",
      "Grocery                410\n",
      "Others                 264\n",
      "Name: PreferedOrderCat, dtype: int64\n",
      "\n",
      "MaritalStatus\n",
      "\n",
      "The values are:\n",
      "Married     2986\n",
      "Single      1796\n",
      "Divorced     848\n",
      "Name: MaritalStatus, dtype: int64\n",
      "\n"
     ]
    }
   ],
   "source": [
    "for i in df.columns:\n",
    "    if df[i].dtypes=='object':\n",
    "        print(i)\n",
    "        print()\n",
    "        print(\"The values are:\")\n",
    "        print(df[i].value_counts())\n",
    "        print()"
   ]
  },
  {
   "cell_type": "markdown",
   "metadata": {},
   "source": [
    "Handling missing values"
   ]
  },
  {
   "cell_type": "code",
   "execution_count": 8,
   "metadata": {},
   "outputs": [],
   "source": [
    "df1=df.copy()"
   ]
  },
  {
   "cell_type": "code",
   "execution_count": 9,
   "metadata": {},
   "outputs": [
    {
     "data": {
      "text/plain": [
       "Index(['CustomerID', 'Churn', 'Tenure', 'PreferredLoginDevice', 'CityTier',\n",
       "       'WarehouseToHome', 'PreferredPaymentMode', 'Gender', 'HourSpendOnApp',\n",
       "       'NumberOfDeviceRegistered', 'PreferedOrderCat', 'SatisfactionScore',\n",
       "       'MaritalStatus', 'NumberOfAddress', 'Complain',\n",
       "       'OrderAmountHikeFromlastYear', 'CouponUsed', 'OrderCount',\n",
       "       'DaySinceLastOrder', 'CashbackAmount'],\n",
       "      dtype='object')"
      ]
     },
     "execution_count": 9,
     "metadata": {},
     "output_type": "execute_result"
    }
   ],
   "source": [
    "df.columns"
   ]
  },
  {
   "cell_type": "code",
   "execution_count": 10,
   "metadata": {},
   "outputs": [
    {
     "name": "stdout",
     "output_type": "stream",
     "text": [
      "Tenure\n",
      "Total null values: 264\n",
      "Datatype is : float64\n",
      "\n",
      "WarehouseToHome\n",
      "Total null values: 251\n",
      "Datatype is : float64\n",
      "\n",
      "HourSpendOnApp\n",
      "Total null values: 255\n",
      "Datatype is : float64\n",
      "\n",
      "OrderAmountHikeFromlastYear\n",
      "Total null values: 265\n",
      "Datatype is : float64\n",
      "\n",
      "CouponUsed\n",
      "Total null values: 256\n",
      "Datatype is : float64\n",
      "\n",
      "OrderCount\n",
      "Total null values: 258\n",
      "Datatype is : float64\n",
      "\n",
      "DaySinceLastOrder\n",
      "Total null values: 307\n",
      "Datatype is : float64\n",
      "\n"
     ]
    }
   ],
   "source": [
    "#calculating number of null values in each columns\n",
    "\n",
    "for i in df.columns:\n",
    "    if df[i].isnull().sum()>0:\n",
    "        print(i)\n",
    "        print(\"Total null values:\", df[i].isnull().sum())\n",
    "        print(\"Datatype is :\", df[i].dtypes)\n",
    "        print()"
   ]
  },
  {
   "cell_type": "markdown",
   "metadata": {},
   "source": [
    "converting churn variable to object"
   ]
  },
  {
   "cell_type": "code",
   "execution_count": 11,
   "metadata": {},
   "outputs": [],
   "source": [
    "df['Churn']=df['Churn'].astype('object')\n",
    "df['CityTier']=df['CityTier'].astype('object')"
   ]
  },
  {
   "cell_type": "code",
   "execution_count": 12,
   "metadata": {},
   "outputs": [
    {
     "data": {
      "text/html": [
       "<div>\n",
       "<style scoped>\n",
       "    .dataframe tbody tr th:only-of-type {\n",
       "        vertical-align: middle;\n",
       "    }\n",
       "\n",
       "    .dataframe tbody tr th {\n",
       "        vertical-align: top;\n",
       "    }\n",
       "\n",
       "    .dataframe thead th {\n",
       "        text-align: right;\n",
       "    }\n",
       "</style>\n",
       "<table border=\"1\" class=\"dataframe\">\n",
       "  <thead>\n",
       "    <tr style=\"text-align: right;\">\n",
       "      <th></th>\n",
       "      <th>count</th>\n",
       "      <th>mean</th>\n",
       "      <th>std</th>\n",
       "      <th>min</th>\n",
       "      <th>25%</th>\n",
       "      <th>50%</th>\n",
       "      <th>75%</th>\n",
       "      <th>max</th>\n",
       "    </tr>\n",
       "  </thead>\n",
       "  <tbody>\n",
       "    <tr>\n",
       "      <th>CustomerID</th>\n",
       "      <td>5630.0</td>\n",
       "      <td>52815.500000</td>\n",
       "      <td>1625.385339</td>\n",
       "      <td>50001.0</td>\n",
       "      <td>51408.25</td>\n",
       "      <td>52815.50</td>\n",
       "      <td>54222.7500</td>\n",
       "      <td>55630.00</td>\n",
       "    </tr>\n",
       "    <tr>\n",
       "      <th>Tenure</th>\n",
       "      <td>5366.0</td>\n",
       "      <td>10.189899</td>\n",
       "      <td>8.557241</td>\n",
       "      <td>0.0</td>\n",
       "      <td>2.00</td>\n",
       "      <td>9.00</td>\n",
       "      <td>16.0000</td>\n",
       "      <td>61.00</td>\n",
       "    </tr>\n",
       "    <tr>\n",
       "      <th>WarehouseToHome</th>\n",
       "      <td>5379.0</td>\n",
       "      <td>15.639896</td>\n",
       "      <td>8.531475</td>\n",
       "      <td>5.0</td>\n",
       "      <td>9.00</td>\n",
       "      <td>14.00</td>\n",
       "      <td>20.0000</td>\n",
       "      <td>127.00</td>\n",
       "    </tr>\n",
       "    <tr>\n",
       "      <th>HourSpendOnApp</th>\n",
       "      <td>5375.0</td>\n",
       "      <td>2.931535</td>\n",
       "      <td>0.721926</td>\n",
       "      <td>0.0</td>\n",
       "      <td>2.00</td>\n",
       "      <td>3.00</td>\n",
       "      <td>3.0000</td>\n",
       "      <td>5.00</td>\n",
       "    </tr>\n",
       "    <tr>\n",
       "      <th>NumberOfDeviceRegistered</th>\n",
       "      <td>5630.0</td>\n",
       "      <td>3.688988</td>\n",
       "      <td>1.023999</td>\n",
       "      <td>1.0</td>\n",
       "      <td>3.00</td>\n",
       "      <td>4.00</td>\n",
       "      <td>4.0000</td>\n",
       "      <td>6.00</td>\n",
       "    </tr>\n",
       "    <tr>\n",
       "      <th>SatisfactionScore</th>\n",
       "      <td>5630.0</td>\n",
       "      <td>3.066785</td>\n",
       "      <td>1.380194</td>\n",
       "      <td>1.0</td>\n",
       "      <td>2.00</td>\n",
       "      <td>3.00</td>\n",
       "      <td>4.0000</td>\n",
       "      <td>5.00</td>\n",
       "    </tr>\n",
       "    <tr>\n",
       "      <th>NumberOfAddress</th>\n",
       "      <td>5630.0</td>\n",
       "      <td>4.214032</td>\n",
       "      <td>2.583586</td>\n",
       "      <td>1.0</td>\n",
       "      <td>2.00</td>\n",
       "      <td>3.00</td>\n",
       "      <td>6.0000</td>\n",
       "      <td>22.00</td>\n",
       "    </tr>\n",
       "    <tr>\n",
       "      <th>Complain</th>\n",
       "      <td>5630.0</td>\n",
       "      <td>0.284902</td>\n",
       "      <td>0.451408</td>\n",
       "      <td>0.0</td>\n",
       "      <td>0.00</td>\n",
       "      <td>0.00</td>\n",
       "      <td>1.0000</td>\n",
       "      <td>1.00</td>\n",
       "    </tr>\n",
       "    <tr>\n",
       "      <th>OrderAmountHikeFromlastYear</th>\n",
       "      <td>5365.0</td>\n",
       "      <td>15.707922</td>\n",
       "      <td>3.675485</td>\n",
       "      <td>11.0</td>\n",
       "      <td>13.00</td>\n",
       "      <td>15.00</td>\n",
       "      <td>18.0000</td>\n",
       "      <td>26.00</td>\n",
       "    </tr>\n",
       "    <tr>\n",
       "      <th>CouponUsed</th>\n",
       "      <td>5374.0</td>\n",
       "      <td>1.751023</td>\n",
       "      <td>1.894621</td>\n",
       "      <td>0.0</td>\n",
       "      <td>1.00</td>\n",
       "      <td>1.00</td>\n",
       "      <td>2.0000</td>\n",
       "      <td>16.00</td>\n",
       "    </tr>\n",
       "    <tr>\n",
       "      <th>OrderCount</th>\n",
       "      <td>5372.0</td>\n",
       "      <td>3.008004</td>\n",
       "      <td>2.939680</td>\n",
       "      <td>1.0</td>\n",
       "      <td>1.00</td>\n",
       "      <td>2.00</td>\n",
       "      <td>3.0000</td>\n",
       "      <td>16.00</td>\n",
       "    </tr>\n",
       "    <tr>\n",
       "      <th>DaySinceLastOrder</th>\n",
       "      <td>5323.0</td>\n",
       "      <td>4.543491</td>\n",
       "      <td>3.654433</td>\n",
       "      <td>0.0</td>\n",
       "      <td>2.00</td>\n",
       "      <td>3.00</td>\n",
       "      <td>7.0000</td>\n",
       "      <td>46.00</td>\n",
       "    </tr>\n",
       "    <tr>\n",
       "      <th>CashbackAmount</th>\n",
       "      <td>5630.0</td>\n",
       "      <td>177.223030</td>\n",
       "      <td>49.207036</td>\n",
       "      <td>0.0</td>\n",
       "      <td>145.77</td>\n",
       "      <td>163.28</td>\n",
       "      <td>196.3925</td>\n",
       "      <td>324.99</td>\n",
       "    </tr>\n",
       "  </tbody>\n",
       "</table>\n",
       "</div>"
      ],
      "text/plain": [
       "                              count          mean          std      min  \\\n",
       "CustomerID                   5630.0  52815.500000  1625.385339  50001.0   \n",
       "Tenure                       5366.0     10.189899     8.557241      0.0   \n",
       "WarehouseToHome              5379.0     15.639896     8.531475      5.0   \n",
       "HourSpendOnApp               5375.0      2.931535     0.721926      0.0   \n",
       "NumberOfDeviceRegistered     5630.0      3.688988     1.023999      1.0   \n",
       "SatisfactionScore            5630.0      3.066785     1.380194      1.0   \n",
       "NumberOfAddress              5630.0      4.214032     2.583586      1.0   \n",
       "Complain                     5630.0      0.284902     0.451408      0.0   \n",
       "OrderAmountHikeFromlastYear  5365.0     15.707922     3.675485     11.0   \n",
       "CouponUsed                   5374.0      1.751023     1.894621      0.0   \n",
       "OrderCount                   5372.0      3.008004     2.939680      1.0   \n",
       "DaySinceLastOrder            5323.0      4.543491     3.654433      0.0   \n",
       "CashbackAmount               5630.0    177.223030    49.207036      0.0   \n",
       "\n",
       "                                  25%       50%         75%       max  \n",
       "CustomerID                   51408.25  52815.50  54222.7500  55630.00  \n",
       "Tenure                           2.00      9.00     16.0000     61.00  \n",
       "WarehouseToHome                  9.00     14.00     20.0000    127.00  \n",
       "HourSpendOnApp                   2.00      3.00      3.0000      5.00  \n",
       "NumberOfDeviceRegistered         3.00      4.00      4.0000      6.00  \n",
       "SatisfactionScore                2.00      3.00      4.0000      5.00  \n",
       "NumberOfAddress                  2.00      3.00      6.0000     22.00  \n",
       "Complain                         0.00      0.00      1.0000      1.00  \n",
       "OrderAmountHikeFromlastYear     13.00     15.00     18.0000     26.00  \n",
       "CouponUsed                       1.00      1.00      2.0000     16.00  \n",
       "OrderCount                       1.00      2.00      3.0000     16.00  \n",
       "DaySinceLastOrder                2.00      3.00      7.0000     46.00  \n",
       "CashbackAmount                 145.77    163.28    196.3925    324.99  "
      ]
     },
     "execution_count": 12,
     "metadata": {},
     "output_type": "execute_result"
    }
   ],
   "source": [
    "df.describe().transpose()"
   ]
  },
  {
   "cell_type": "markdown",
   "metadata": {},
   "source": [
    "Filling missing values with it's median values"
   ]
  },
  {
   "cell_type": "code",
   "execution_count": 13,
   "metadata": {},
   "outputs": [],
   "source": [
    "for i in df.columns:\n",
    "    if df[i].isnull().sum()>0:\n",
    "        df[i].fillna(df[i].median(),inplace=True)\n"
   ]
  },
  {
   "cell_type": "code",
   "execution_count": 14,
   "metadata": {},
   "outputs": [
    {
     "data": {
      "text/plain": [
       "CustomerID                     0\n",
       "Churn                          0\n",
       "Tenure                         0\n",
       "PreferredLoginDevice           0\n",
       "CityTier                       0\n",
       "WarehouseToHome                0\n",
       "PreferredPaymentMode           0\n",
       "Gender                         0\n",
       "HourSpendOnApp                 0\n",
       "NumberOfDeviceRegistered       0\n",
       "PreferedOrderCat               0\n",
       "SatisfactionScore              0\n",
       "MaritalStatus                  0\n",
       "NumberOfAddress                0\n",
       "Complain                       0\n",
       "OrderAmountHikeFromlastYear    0\n",
       "CouponUsed                     0\n",
       "OrderCount                     0\n",
       "DaySinceLastOrder              0\n",
       "CashbackAmount                 0\n",
       "dtype: int64"
      ]
     },
     "execution_count": 14,
     "metadata": {},
     "output_type": "execute_result"
    }
   ],
   "source": [
    "df.isnull().sum()"
   ]
  },
  {
   "cell_type": "code",
   "execution_count": 15,
   "metadata": {},
   "outputs": [
    {
     "name": "stdout",
     "output_type": "stream",
     "text": [
      "The average customer churn is: 20.25 %\n"
     ]
    }
   ],
   "source": [
    "# calculating average cashback\n",
    "df['avg_cashbk_per_order'] = df['CashbackAmount'] / df['OrderCount']\n",
    "\n",
    "# Percentage of customer churn\n",
    "Churn_perc = round((df['Churn'][df['Churn']==1].count()*100/df['Churn'][df['Churn']==0].count()),2)\n",
    "\n",
    "print('The average customer churn is:', Churn_perc,'%')"
   ]
  },
  {
   "cell_type": "code",
   "execution_count": null,
   "metadata": {},
   "outputs": [],
   "source": []
  },
  {
   "cell_type": "markdown",
   "metadata": {},
   "source": [
    "### Exploratory Data Analysis"
   ]
  },
  {
   "cell_type": "markdown",
   "metadata": {},
   "source": [
    "Lets make a list of the categorical and numerical variables these will be helpful in analysing the data efficiently"
   ]
  },
  {
   "cell_type": "code",
   "execution_count": 16,
   "metadata": {},
   "outputs": [
    {
     "name": "stdout",
     "output_type": "stream",
     "text": [
      "Category =  ['Churn', 'PreferredLoginDevice', 'CityTier', 'PreferredPaymentMode', 'Gender', 'PreferedOrderCat', 'MaritalStatus']\n",
      "num =  ['CustomerID', 'Tenure', 'WarehouseToHome', 'HourSpendOnApp', 'NumberOfDeviceRegistered', 'SatisfactionScore', 'NumberOfAddress', 'Complain', 'OrderAmountHikeFromlastYear', 'CouponUsed', 'OrderCount', 'DaySinceLastOrder', 'CashbackAmount', 'avg_cashbk_per_order']\n"
     ]
    }
   ],
   "source": [
    "category=[]\n",
    "num=[]\n",
    "for i in df.columns:\n",
    "    if df[i].dtype=='object':\n",
    "        category.append(i)\n",
    "    else:\n",
    "        num.append(i)\n",
    "print('Category = ',category)\n",
    "print('num = ',num)"
   ]
  },
  {
   "cell_type": "code",
   "execution_count": 17,
   "metadata": {},
   "outputs": [
    {
     "data": {
      "text/html": [
       "<div>\n",
       "<style scoped>\n",
       "    .dataframe tbody tr th:only-of-type {\n",
       "        vertical-align: middle;\n",
       "    }\n",
       "\n",
       "    .dataframe tbody tr th {\n",
       "        vertical-align: top;\n",
       "    }\n",
       "\n",
       "    .dataframe thead th {\n",
       "        text-align: right;\n",
       "    }\n",
       "</style>\n",
       "<table border=\"1\" class=\"dataframe\">\n",
       "  <thead>\n",
       "    <tr style=\"text-align: right;\">\n",
       "      <th></th>\n",
       "      <th>count</th>\n",
       "      <th>unique</th>\n",
       "      <th>top</th>\n",
       "      <th>freq</th>\n",
       "    </tr>\n",
       "  </thead>\n",
       "  <tbody>\n",
       "    <tr>\n",
       "      <th>Churn</th>\n",
       "      <td>5630</td>\n",
       "      <td>2</td>\n",
       "      <td>0</td>\n",
       "      <td>4682</td>\n",
       "    </tr>\n",
       "    <tr>\n",
       "      <th>PreferredLoginDevice</th>\n",
       "      <td>5630</td>\n",
       "      <td>3</td>\n",
       "      <td>Mobile Phone</td>\n",
       "      <td>2765</td>\n",
       "    </tr>\n",
       "    <tr>\n",
       "      <th>CityTier</th>\n",
       "      <td>5630</td>\n",
       "      <td>3</td>\n",
       "      <td>1</td>\n",
       "      <td>3666</td>\n",
       "    </tr>\n",
       "    <tr>\n",
       "      <th>PreferredPaymentMode</th>\n",
       "      <td>5630</td>\n",
       "      <td>7</td>\n",
       "      <td>Debit Card</td>\n",
       "      <td>2314</td>\n",
       "    </tr>\n",
       "    <tr>\n",
       "      <th>Gender</th>\n",
       "      <td>5630</td>\n",
       "      <td>2</td>\n",
       "      <td>Male</td>\n",
       "      <td>3384</td>\n",
       "    </tr>\n",
       "    <tr>\n",
       "      <th>PreferedOrderCat</th>\n",
       "      <td>5630</td>\n",
       "      <td>6</td>\n",
       "      <td>Laptop &amp; Accessory</td>\n",
       "      <td>2050</td>\n",
       "    </tr>\n",
       "    <tr>\n",
       "      <th>MaritalStatus</th>\n",
       "      <td>5630</td>\n",
       "      <td>3</td>\n",
       "      <td>Married</td>\n",
       "      <td>2986</td>\n",
       "    </tr>\n",
       "  </tbody>\n",
       "</table>\n",
       "</div>"
      ],
      "text/plain": [
       "                     count unique                 top  freq\n",
       "Churn                 5630      2                   0  4682\n",
       "PreferredLoginDevice  5630      3        Mobile Phone  2765\n",
       "CityTier              5630      3                   1  3666\n",
       "PreferredPaymentMode  5630      7          Debit Card  2314\n",
       "Gender                5630      2                Male  3384\n",
       "PreferedOrderCat      5630      6  Laptop & Accessory  2050\n",
       "MaritalStatus         5630      3             Married  2986"
      ]
     },
     "execution_count": 17,
     "metadata": {},
     "output_type": "execute_result"
    }
   ],
   "source": [
    "df[category].describe().transpose()"
   ]
  },
  {
   "cell_type": "code",
   "execution_count": 18,
   "metadata": {},
   "outputs": [
    {
     "name": "stdout",
     "output_type": "stream",
     "text": [
      "Churn\n",
      "\n",
      "0    4682\n",
      "1     948\n",
      "Name: Churn, dtype: int64\n",
      "\n",
      "\n",
      "PreferredLoginDevice\n",
      "\n",
      "Mobile Phone    2765\n",
      "Computer        1634\n",
      "Phone           1231\n",
      "Name: PreferredLoginDevice, dtype: int64\n",
      "\n",
      "\n",
      "CityTier\n",
      "\n",
      "1    3666\n",
      "3    1722\n",
      "2     242\n",
      "Name: CityTier, dtype: int64\n",
      "\n",
      "\n",
      "PreferredPaymentMode\n",
      "\n",
      "Debit Card          2314\n",
      "Credit Card         1501\n",
      "E wallet             614\n",
      "UPI                  414\n",
      "COD                  365\n",
      "CC                   273\n",
      "Cash on Delivery     149\n",
      "Name: PreferredPaymentMode, dtype: int64\n",
      "\n",
      "\n",
      "Gender\n",
      "\n",
      "Male      3384\n",
      "Female    2246\n",
      "Name: Gender, dtype: int64\n",
      "\n",
      "\n",
      "PreferedOrderCat\n",
      "\n",
      "Laptop & Accessory    2050\n",
      "Mobile Phone          1271\n",
      "Fashion                826\n",
      "Mobile                 809\n",
      "Grocery                410\n",
      "Others                 264\n",
      "Name: PreferedOrderCat, dtype: int64\n",
      "\n",
      "\n",
      "MaritalStatus\n",
      "\n",
      "Married     2986\n",
      "Single      1796\n",
      "Divorced     848\n",
      "Name: MaritalStatus, dtype: int64\n",
      "\n",
      "\n"
     ]
    }
   ],
   "source": [
    "for i in category:\n",
    "    print(i)\n",
    "    print()\n",
    "    print(df[i].value_counts())\n",
    "    print()\n",
    "    print()"
   ]
  },
  {
   "cell_type": "code",
   "execution_count": 19,
   "metadata": {},
   "outputs": [
    {
     "data": {
      "text/plain": [
       "<AxesSubplot:xlabel='PreferredLoginDevice', ylabel='count'>"
      ]
     },
     "execution_count": 19,
     "metadata": {},
     "output_type": "execute_result"
    },
    {
     "data": {
      "image/png": "[encoded data removed]",
      "text/plain": [
       "<Figure size 432x288 with 1 Axes>"
      ]
     },
     "metadata": {
      "needs_background": "light"
     },
     "output_type": "display_data"
    }
   ],
   "source": [
    "sns.countplot(x=\"PreferredLoginDevice\",hue=\"Churn\",data=df)"
   ]
  },
  {
   "cell_type": "code",
   "execution_count": 20,
   "metadata": {},
   "outputs": [
    {
     "data": {
      "text/plain": [
       "<AxesSubplot:xlabel='CityTier', ylabel='count'>"
      ]
     },
     "execution_count": 20,
     "metadata": {},
     "output_type": "execute_result"
    },
    {
     "data": {
      "image/png": "[encoded data removed]",
      "text/plain": [
       "<Figure size 432x288 with 1 Axes>"
      ]
     },
     "metadata": {
      "needs_background": "light"
     },
     "output_type": "display_data"
    }
   ],
   "source": [
    "sns.countplot(x=\"CityTier\",hue=\"Churn\",data=df)"
   ]
  },
  {
   "cell_type": "code",
   "execution_count": 22,
   "metadata": {},
   "outputs": [
    {
     "data": {
      "text/plain": [
       "<AxesSubplot:xlabel='Gender', ylabel='count'>"
      ]
     },
     "execution_count": 22,
     "metadata": {},
     "output_type": "execute_result"
    },
    {
     "data": {
      "image/png": "[encoded data removed]",
      "text/plain": [
       "<Figure size 432x288 with 1 Axes>"
      ]
     },
     "metadata": {
      "needs_background": "light"
     },
     "output_type": "display_data"
    }
   ],
   "source": [
    "sns.countplot(x=\"Gender\",hue=\"Churn\",data=df)"
   ]
  },
  {
   "cell_type": "code",
   "execution_count": 23,
   "metadata": {},
   "outputs": [
    {
     "data": {
      "text/plain": [
       "<AxesSubplot:xlabel='PreferedOrderCat', ylabel='count'>"
      ]
     },
     "execution_count": 23,
     "metadata": {},
     "output_type": "execute_result"
    },
    {
     "data": {
      "image/png": "[encoded data removed]",
      "text/plain": [
       "<Figure size 432x288 with 1 Axes>"
      ]
     },
     "metadata": {
      "needs_background": "light"
     },
     "output_type": "display_data"
    }
   ],
   "source": [
    "sns.countplot(x=\"PreferedOrderCat\",hue=\"Churn\",data=df)"
   ]
  },
  {
   "cell_type": "code",
   "execution_count": 24,
   "metadata": {},
   "outputs": [
    {
     "data": {
      "text/plain": [
       "<AxesSubplot:xlabel='MaritalStatus', ylabel='count'>"
      ]
     },
     "execution_count": 24,
     "metadata": {},
     "output_type": "execute_result"
    },
    {
     "data": {
      "image/png": "[encoded data removed]",
      "text/plain": [
       "<Figure size 432x288 with 1 Axes>"
      ]
     },
     "metadata": {
      "needs_background": "light"
     },
     "output_type": "display_data"
    }
   ],
   "source": [
    "sns.countplot(x=\"MaritalStatus\",hue=\"Churn\",data=df)"
   ]
  },
  {
   "cell_type": "code",
   "execution_count": null,
   "metadata": {},
   "outputs": [],
   "source": []
  },
  {
   "cell_type": "code",
   "execution_count": 25,
   "metadata": {},
   "outputs": [
    {
     "data": {
      "text/html": [
       "<div>\n",
       "<style scoped>\n",
       "    .dataframe tbody tr th:only-of-type {\n",
       "        vertical-align: middle;\n",
       "    }\n",
       "\n",
       "    .dataframe tbody tr th {\n",
       "        vertical-align: top;\n",
       "    }\n",
       "\n",
       "    .dataframe thead th {\n",
       "        text-align: right;\n",
       "    }\n",
       "</style>\n",
       "<table border=\"1\" class=\"dataframe\">\n",
       "  <thead>\n",
       "    <tr style=\"text-align: right;\">\n",
       "      <th></th>\n",
       "      <th>count</th>\n",
       "      <th>mean</th>\n",
       "      <th>std</th>\n",
       "      <th>min</th>\n",
       "      <th>25%</th>\n",
       "      <th>50%</th>\n",
       "      <th>75%</th>\n",
       "      <th>max</th>\n",
       "    </tr>\n",
       "  </thead>\n",
       "  <tbody>\n",
       "    <tr>\n",
       "      <th>CustomerID</th>\n",
       "      <td>5630.0</td>\n",
       "      <td>52815.500000</td>\n",
       "      <td>1625.385339</td>\n",
       "      <td>50001.0</td>\n",
       "      <td>51408.250000</td>\n",
       "      <td>52815.50</td>\n",
       "      <td>54222.7500</td>\n",
       "      <td>55630.00</td>\n",
       "    </tr>\n",
       "    <tr>\n",
       "      <th>Tenure</th>\n",
       "      <td>5630.0</td>\n",
       "      <td>10.134103</td>\n",
       "      <td>8.357951</td>\n",
       "      <td>0.0</td>\n",
       "      <td>3.000000</td>\n",
       "      <td>9.00</td>\n",
       "      <td>15.0000</td>\n",
       "      <td>61.00</td>\n",
       "    </tr>\n",
       "    <tr>\n",
       "      <th>WarehouseToHome</th>\n",
       "      <td>5630.0</td>\n",
       "      <td>15.566785</td>\n",
       "      <td>8.345961</td>\n",
       "      <td>5.0</td>\n",
       "      <td>9.000000</td>\n",
       "      <td>14.00</td>\n",
       "      <td>20.0000</td>\n",
       "      <td>127.00</td>\n",
       "    </tr>\n",
       "    <tr>\n",
       "      <th>HourSpendOnApp</th>\n",
       "      <td>5630.0</td>\n",
       "      <td>2.934636</td>\n",
       "      <td>0.705528</td>\n",
       "      <td>0.0</td>\n",
       "      <td>2.000000</td>\n",
       "      <td>3.00</td>\n",
       "      <td>3.0000</td>\n",
       "      <td>5.00</td>\n",
       "    </tr>\n",
       "    <tr>\n",
       "      <th>NumberOfDeviceRegistered</th>\n",
       "      <td>5630.0</td>\n",
       "      <td>3.688988</td>\n",
       "      <td>1.023999</td>\n",
       "      <td>1.0</td>\n",
       "      <td>3.000000</td>\n",
       "      <td>4.00</td>\n",
       "      <td>4.0000</td>\n",
       "      <td>6.00</td>\n",
       "    </tr>\n",
       "    <tr>\n",
       "      <th>SatisfactionScore</th>\n",
       "      <td>5630.0</td>\n",
       "      <td>3.066785</td>\n",
       "      <td>1.380194</td>\n",
       "      <td>1.0</td>\n",
       "      <td>2.000000</td>\n",
       "      <td>3.00</td>\n",
       "      <td>4.0000</td>\n",
       "      <td>5.00</td>\n",
       "    </tr>\n",
       "    <tr>\n",
       "      <th>NumberOfAddress</th>\n",
       "      <td>5630.0</td>\n",
       "      <td>4.214032</td>\n",
       "      <td>2.583586</td>\n",
       "      <td>1.0</td>\n",
       "      <td>2.000000</td>\n",
       "      <td>3.00</td>\n",
       "      <td>6.0000</td>\n",
       "      <td>22.00</td>\n",
       "    </tr>\n",
       "    <tr>\n",
       "      <th>Complain</th>\n",
       "      <td>5630.0</td>\n",
       "      <td>0.284902</td>\n",
       "      <td>0.451408</td>\n",
       "      <td>0.0</td>\n",
       "      <td>0.000000</td>\n",
       "      <td>0.00</td>\n",
       "      <td>1.0000</td>\n",
       "      <td>1.00</td>\n",
       "    </tr>\n",
       "    <tr>\n",
       "      <th>OrderAmountHikeFromlastYear</th>\n",
       "      <td>5630.0</td>\n",
       "      <td>15.674600</td>\n",
       "      <td>3.591058</td>\n",
       "      <td>11.0</td>\n",
       "      <td>13.000000</td>\n",
       "      <td>15.00</td>\n",
       "      <td>18.0000</td>\n",
       "      <td>26.00</td>\n",
       "    </tr>\n",
       "    <tr>\n",
       "      <th>CouponUsed</th>\n",
       "      <td>5630.0</td>\n",
       "      <td>1.716874</td>\n",
       "      <td>1.857640</td>\n",
       "      <td>0.0</td>\n",
       "      <td>1.000000</td>\n",
       "      <td>1.00</td>\n",
       "      <td>2.0000</td>\n",
       "      <td>16.00</td>\n",
       "    </tr>\n",
       "    <tr>\n",
       "      <th>OrderCount</th>\n",
       "      <td>5630.0</td>\n",
       "      <td>2.961812</td>\n",
       "      <td>2.879248</td>\n",
       "      <td>1.0</td>\n",
       "      <td>1.000000</td>\n",
       "      <td>2.00</td>\n",
       "      <td>3.0000</td>\n",
       "      <td>16.00</td>\n",
       "    </tr>\n",
       "    <tr>\n",
       "      <th>DaySinceLastOrder</th>\n",
       "      <td>5630.0</td>\n",
       "      <td>4.459325</td>\n",
       "      <td>3.570626</td>\n",
       "      <td>0.0</td>\n",
       "      <td>2.000000</td>\n",
       "      <td>3.00</td>\n",
       "      <td>7.0000</td>\n",
       "      <td>46.00</td>\n",
       "    </tr>\n",
       "    <tr>\n",
       "      <th>CashbackAmount</th>\n",
       "      <td>5630.0</td>\n",
       "      <td>177.223030</td>\n",
       "      <td>49.207036</td>\n",
       "      <td>0.0</td>\n",
       "      <td>145.770000</td>\n",
       "      <td>163.28</td>\n",
       "      <td>196.3925</td>\n",
       "      <td>324.99</td>\n",
       "    </tr>\n",
       "    <tr>\n",
       "      <th>avg_cashbk_per_order</th>\n",
       "      <td>5630.0</td>\n",
       "      <td>95.538860</td>\n",
       "      <td>53.350535</td>\n",
       "      <td>0.0</td>\n",
       "      <td>57.450833</td>\n",
       "      <td>87.18</td>\n",
       "      <td>129.3300</td>\n",
       "      <td>298.59</td>\n",
       "    </tr>\n",
       "  </tbody>\n",
       "</table>\n",
       "</div>"
      ],
      "text/plain": [
       "                              count          mean          std      min  \\\n",
       "CustomerID                   5630.0  52815.500000  1625.385339  50001.0   \n",
       "Tenure                       5630.0     10.134103     8.357951      0.0   \n",
       "WarehouseToHome              5630.0     15.566785     8.345961      5.0   \n",
       "HourSpendOnApp               5630.0      2.934636     0.705528      0.0   \n",
       "NumberOfDeviceRegistered     5630.0      3.688988     1.023999      1.0   \n",
       "SatisfactionScore            5630.0      3.066785     1.380194      1.0   \n",
       "NumberOfAddress              5630.0      4.214032     2.583586      1.0   \n",
       "Complain                     5630.0      0.284902     0.451408      0.0   \n",
       "OrderAmountHikeFromlastYear  5630.0     15.674600     3.591058     11.0   \n",
       "CouponUsed                   5630.0      1.716874     1.857640      0.0   \n",
       "OrderCount                   5630.0      2.961812     2.879248      1.0   \n",
       "DaySinceLastOrder            5630.0      4.459325     3.570626      0.0   \n",
       "CashbackAmount               5630.0    177.223030    49.207036      0.0   \n",
       "avg_cashbk_per_order         5630.0     95.538860    53.350535      0.0   \n",
       "\n",
       "                                      25%       50%         75%       max  \n",
       "CustomerID                   51408.250000  52815.50  54222.7500  55630.00  \n",
       "Tenure                           3.000000      9.00     15.0000     61.00  \n",
       "WarehouseToHome                  9.000000     14.00     20.0000    127.00  \n",
       "HourSpendOnApp                   2.000000      3.00      3.0000      5.00  \n",
       "NumberOfDeviceRegistered         3.000000      4.00      4.0000      6.00  \n",
       "SatisfactionScore                2.000000      3.00      4.0000      5.00  \n",
       "NumberOfAddress                  2.000000      3.00      6.0000     22.00  \n",
       "Complain                         0.000000      0.00      1.0000      1.00  \n",
       "OrderAmountHikeFromlastYear     13.000000     15.00     18.0000     26.00  \n",
       "CouponUsed                       1.000000      1.00      2.0000     16.00  \n",
       "OrderCount                       1.000000      2.00      3.0000     16.00  \n",
       "DaySinceLastOrder                2.000000      3.00      7.0000     46.00  \n",
       "CashbackAmount                 145.770000    163.28    196.3925    324.99  \n",
       "avg_cashbk_per_order            57.450833     87.18    129.3300    298.59  "
      ]
     },
     "execution_count": 25,
     "metadata": {},
     "output_type": "execute_result"
    }
   ],
   "source": [
    "df[num].describe().transpose()"
   ]
  },
  {
   "cell_type": "markdown",
   "metadata": {},
   "source": [
    "#### Analysing Churn by each Variable\n"
   ]
  },
  {
   "cell_type": "code",
   "execution_count": 27,
   "metadata": {},
   "outputs": [],
   "source": [
    "# defining a tuple for storing the dataframes in a containing information about the contribution each value to the customer churn.\n",
    "# this was done so that we can quickly automate making such dataframes\n",
    "\n",
    "d={}\n",
    "\n",
    "# running loop for storing the calculating and storing the values in the relevant dataframes  \n",
    "for i in df.columns:\n",
    "    d[i] = pd.concat([df.groupby(i).Churn.sum(),df[i].value_counts(),round(df.groupby(i).Churn.sum()*100/df[i].value_counts(),2)], axis=1)\n",
    "    d[i].reset_index(level=0,inplace=True)\n",
    "    d[i] = d[i].rename(columns = {'index':i, 'Churn':'Customers_churned', i:'Total_Customers', 0:'perc_of_total_cust'}, )"
   ]
  },
  {
   "cell_type": "code",
   "execution_count": 28,
   "metadata": {},
   "outputs": [
    {
     "name": "stdout",
     "output_type": "stream",
     "text": [
      "CustomerID\n",
      "      CustomerID  Customers_churned  Total_Customers  perc_of_total_cust\n",
      "0          50001                  1                1               100.0\n",
      "1          50002                  1                1               100.0\n",
      "2          50003                  1                1               100.0\n",
      "3          50004                  1                1               100.0\n",
      "4          50005                  1                1               100.0\n",
      "...          ...                ...              ...                 ...\n",
      "5625       55626                  0                1                 0.0\n",
      "5626       55627                  0                1                 0.0\n",
      "5627       55628                  0                1                 0.0\n",
      "5628       55629                  0                1                 0.0\n",
      "5629       55630                  0                1                 0.0\n",
      "\n",
      "[5630 rows x 4 columns]\n",
      "\n",
      "Churn\n",
      "   Churn  Total_Customers  Total_Customers  Total_Customers\n",
      "0      0                0             4682              0.0\n",
      "1      1              948              948            100.0\n",
      "\n",
      "Tenure\n",
      "    Tenure  Customers_churned  Total_Customers  perc_of_total_cust\n",
      "0      0.0                272              508               53.54\n",
      "1      1.0                349              690               50.58\n",
      "2      2.0                 14              167                8.38\n",
      "3      3.0                 18              195                9.23\n",
      "4      4.0                 20              203                9.85\n",
      "5      5.0                 16              204                7.84\n",
      "6      6.0                  8              183                4.37\n",
      "7      7.0                 16              221                7.24\n",
      "8      8.0                 16              263                6.08\n",
      "9      9.0                 93              511               18.20\n",
      "10    10.0                 14              213                6.57\n",
      "11    11.0                 10              194                5.15\n",
      "12    12.0                  7              182                3.85\n",
      "13    13.0                 13              181                7.18\n",
      "14    14.0                 14              176                7.95\n",
      "15    15.0                 10              159                6.29\n",
      "16    16.0                 10              149                6.71\n",
      "17    17.0                  4              106                3.77\n",
      "18    18.0                  6              123                4.88\n",
      "19    19.0                 12              140                8.57\n",
      "20    20.0                 16              109               14.68\n",
      "21    21.0                 10               84               11.90\n",
      "22    22.0                  0               76                0.00\n",
      "23    23.0                  0               89                0.00\n",
      "24    24.0                  0               75                0.00\n",
      "25    25.0                  0               59                0.00\n",
      "26    26.0                  0               60                0.00\n",
      "27    27.0                  0               66                0.00\n",
      "28    28.0                  0               70                0.00\n",
      "29    29.0                  0               55                0.00\n",
      "30    30.0                  0               66                0.00\n",
      "31    31.0                  0               49                0.00\n",
      "32    50.0                  0                1                0.00\n",
      "33    51.0                  0                1                0.00\n",
      "34    60.0                  0                1                0.00\n",
      "35    61.0                  0                1                0.00\n",
      "\n",
      "PreferredLoginDevice\n",
      "  PreferredLoginDevice  Customers_churned  Total_Customers  perc_of_total_cust\n",
      "0             Computer                324             1634               19.83\n",
      "1         Mobile Phone                348             2765               12.59\n",
      "2                Phone                276             1231               22.42\n",
      "\n",
      "CityTier\n",
      "   CityTier  Customers_churned  Total_Customers  perc_of_total_cust\n",
      "0         1                532             3666               14.51\n",
      "1         2                 48              242               19.83\n",
      "2         3                368             1722               21.37\n",
      "\n",
      "WarehouseToHome\n",
      "    WarehouseToHome  Customers_churned  Total_Customers  perc_of_total_cust\n",
      "0               5.0                  1                8               12.50\n",
      "1               6.0                 34              295               11.53\n",
      "2               7.0                 49              389               12.60\n",
      "3               8.0                 58              444               13.06\n",
      "4               9.0                 80              559               14.31\n",
      "5              10.0                 44              274               16.06\n",
      "6              11.0                 32              233               13.73\n",
      "7              12.0                 30              221               13.57\n",
      "8              13.0                 30              249               12.05\n",
      "9              14.0                124              550               22.55\n",
      "10             15.0                 52              288               18.06\n",
      "11             16.0                 54              322               16.77\n",
      "12             17.0                 28              217               12.90\n",
      "13             18.0                 18               89               20.22\n",
      "14             19.0                 22               75               29.33\n",
      "15             20.0                 18               74               24.32\n",
      "16             21.0                 16               85               18.82\n",
      "17             22.0                 22              104               21.15\n",
      "18             23.0                 18               96               18.75\n",
      "19             24.0                 16               85               18.82\n",
      "20             25.0                 12               86               13.95\n",
      "21             26.0                 14               89               15.73\n",
      "22             27.0                 12               81               14.81\n",
      "23             28.0                 18               71               25.35\n",
      "24             29.0                 22               81               27.16\n",
      "25             30.0                 26               94               27.66\n",
      "26             31.0                 34              101               33.66\n",
      "27             32.0                 18               94               19.15\n",
      "28             33.0                 12               67               17.91\n",
      "29             34.0                 10               63               15.87\n",
      "30             35.0                 14               93               15.05\n",
      "31             36.0                 10               51               19.61\n",
      "32            126.0                  0                1                0.00\n",
      "33            127.0                  0                1                0.00\n",
      "\n",
      "PreferredPaymentMode\n",
      "  PreferredPaymentMode  Customers_churned  Total_Customers  perc_of_total_cust\n",
      "0                   CC                 59              273               21.61\n",
      "1                  COD                105              365               28.77\n",
      "2     Cash on Delivery                 23              149               15.44\n",
      "3          Credit Card                193             1501               12.86\n",
      "4           Debit Card                356             2314               15.38\n",
      "5             E wallet                140              614               22.80\n",
      "6                  UPI                 72              414               17.39\n",
      "\n",
      "Gender\n",
      "   Gender  Customers_churned  Total_Customers  perc_of_total_cust\n",
      "0  Female                348             2246               15.49\n",
      "1    Male                600             3384               17.73\n",
      "\n",
      "HourSpendOnApp\n",
      "   HourSpendOnApp  Customers_churned  Total_Customers  perc_of_total_cust\n",
      "0             0.0                  0                3                0.00\n",
      "1             1.0                  0               35                0.00\n",
      "2             2.0                232             1471               15.77\n",
      "3             3.0                518             2942               17.61\n",
      "4             4.0                198             1176               16.84\n",
      "5             5.0                  0                3                0.00\n",
      "\n",
      "NumberOfDeviceRegistered\n",
      "   NumberOfDeviceRegistered  Customers_churned  Total_Customers  \\\n",
      "0                         1                 22              235   \n",
      "1                         2                 26              276   \n",
      "2                         3                254             1699   \n",
      "3                         4                392             2377   \n",
      "4                         5                198              881   \n",
      "5                         6                 56              162   \n",
      "\n",
      "   perc_of_total_cust  \n",
      "0                9.36  \n",
      "1                9.42  \n",
      "2               14.95  \n",
      "3               16.49  \n",
      "4               22.47  \n",
      "5               34.57  \n",
      "\n",
      "PreferedOrderCat\n",
      "     PreferedOrderCat  Customers_churned  Total_Customers  perc_of_total_cust\n",
      "0             Fashion                128              826               15.50\n",
      "1             Grocery                 20              410                4.88\n",
      "2  Laptop & Accessory                210             2050               10.24\n",
      "3              Mobile                220              809               27.19\n",
      "4        Mobile Phone                350             1271               27.54\n",
      "5              Others                 20              264                7.58\n",
      "\n",
      "SatisfactionScore\n",
      "   SatisfactionScore  Customers_churned  Total_Customers  perc_of_total_cust\n",
      "0                  1                134             1164               11.51\n",
      "1                  2                 74              586               12.63\n",
      "2                  3                292             1698               17.20\n",
      "3                  4                184             1074               17.13\n",
      "4                  5                264             1108               23.83\n",
      "\n",
      "MaritalStatus\n",
      "  MaritalStatus  Customers_churned  Total_Customers  perc_of_total_cust\n",
      "0      Divorced                124              848               14.62\n",
      "1       Married                344             2986               11.52\n",
      "2        Single                480             1796               26.73\n",
      "\n",
      "NumberOfAddress\n",
      "    NumberOfAddress  Customers_churned  Total_Customers  perc_of_total_cust\n",
      "0                 1                 45              371               12.13\n",
      "1                 2                241             1369               17.60\n",
      "2                 3                228             1278               17.84\n",
      "3                 4                 65              588               11.05\n",
      "4                 5                 67              571               11.73\n",
      "5                 6                 66              382               17.28\n",
      "6                 7                 64              256               25.00\n",
      "7                 8                 66              280               23.57\n",
      "8                 9                 46              239               19.25\n",
      "9                10                 35              194               18.04\n",
      "10               11                 23               98               23.47\n",
      "11               19                  1                1              100.00\n",
      "12               20                  1                1              100.00\n",
      "13               21                  0                1                0.00\n",
      "14               22                  0                1                0.00\n",
      "\n",
      "Complain\n",
      "   Complain  Customers_churned  Total_Customers  perc_of_total_cust\n",
      "0         0                440             4026               10.93\n",
      "1         1                508             1604               31.67\n",
      "\n",
      "OrderAmountHikeFromlastYear\n",
      "    OrderAmountHikeFromlastYear  Customers_churned  Total_Customers  \\\n",
      "0                          11.0                 82              391   \n",
      "1                          12.0                144              728   \n",
      "2                          13.0                128              741   \n",
      "3                          14.0                116              750   \n",
      "4                          15.0                 96              807   \n",
      "5                          16.0                 64              333   \n",
      "6                          17.0                 54              297   \n",
      "7                          18.0                 54              321   \n",
      "8                          19.0                 44              311   \n",
      "9                          20.0                 32              243   \n",
      "10                         21.0                 24              190   \n",
      "11                         22.0                 34              184   \n",
      "12                         23.0                 36              144   \n",
      "13                         24.0                 24               84   \n",
      "14                         25.0                 14               73   \n",
      "15                         26.0                  2               33   \n",
      "\n",
      "    perc_of_total_cust  \n",
      "0                20.97  \n",
      "1                19.78  \n",
      "2                17.27  \n",
      "3                15.47  \n",
      "4                11.90  \n",
      "5                19.22  \n",
      "6                18.18  \n",
      "7                16.82  \n",
      "8                14.15  \n",
      "9                13.17  \n",
      "10               12.63  \n",
      "11               18.48  \n",
      "12               25.00  \n",
      "13               28.57  \n",
      "14               19.18  \n",
      "15                6.06  \n",
      "\n",
      "CouponUsed\n",
      "    CouponUsed  Customers_churned  Total_Customers  perc_of_total_cust\n",
      "0          0.0                186             1030               18.06\n",
      "1          1.0                386             2361               16.35\n",
      "2          2.0                222             1283               17.30\n",
      "3          3.0                 46              327               14.07\n",
      "4          4.0                 30              197               15.23\n",
      "5          5.0                 23              129               17.83\n",
      "6          6.0                 18              108               16.67\n",
      "7          7.0                 18               89               20.22\n",
      "8          8.0                  9               42               21.43\n",
      "9          9.0                  2               13               15.38\n",
      "10        10.0                  3               14               21.43\n",
      "11        11.0                  2               12               16.67\n",
      "12        12.0                  1                9               11.11\n",
      "13        13.0                  0                8                0.00\n",
      "14        14.0                  0                5                0.00\n",
      "15        15.0                  1                1              100.00\n",
      "16        16.0                  1                2               50.00\n",
      "\n",
      "OrderCount\n",
      "    OrderCount  Customers_churned  Total_Customers  perc_of_total_cust\n",
      "0          1.0                316             1751               18.05\n",
      "1          2.0                388             2283               17.00\n",
      "2          3.0                 68              371               18.33\n",
      "3          4.0                 28              204               13.73\n",
      "4          5.0                 14              181                7.73\n",
      "5          6.0                 16              137               11.68\n",
      "6          7.0                 42              206               20.39\n",
      "7          8.0                 32              172               18.60\n",
      "8          9.0                  8               62               12.90\n",
      "9         10.0                  8               36               22.22\n",
      "10        11.0                  6               51               11.76\n",
      "11        12.0                  2               54                3.70\n",
      "12        13.0                  2               30                6.67\n",
      "13        14.0                  6               36               16.67\n",
      "14        15.0                  6               33               18.18\n",
      "15        16.0                  6               23               26.09\n",
      "\n",
      "DaySinceLastOrder\n",
      "    DaySinceLastOrder  Customers_churned  Total_Customers  perc_of_total_cust\n",
      "0                 0.0                170              496               34.27\n",
      "1                 1.0                182              614               29.64\n",
      "2                 2.0                122              792               15.40\n",
      "3                 3.0                184             1207               15.24\n",
      "4                 4.0                 58              431               13.46\n",
      "5                 5.0                 28              228               12.28\n",
      "6                 6.0                 16              113               14.16\n",
      "7                 7.0                 65              447               14.54\n",
      "8                 8.0                 66              538               12.27\n",
      "9                 9.0                 28              299                9.36\n",
      "10               10.0                 10              157                6.37\n",
      "11               11.0                  8               91                8.79\n",
      "12               12.0                  2               69                2.90\n",
      "13               13.0                  0               51                0.00\n",
      "14               14.0                  4               35               11.43\n",
      "15               15.0                  4               19               21.05\n",
      "16               16.0                  0               13                0.00\n",
      "17               17.0                  0               17                0.00\n",
      "18               18.0                  0               10                0.00\n",
      "19               30.0                  0                1                0.00\n",
      "20               31.0                  0                1                0.00\n",
      "21               46.0                  1                1              100.00\n",
      "\n",
      "CashbackAmount\n",
      "      CashbackAmount  Customers_churned  Total_Customers  perc_of_total_cust\n",
      "0               0.00                  0                4                 0.0\n",
      "1              12.00                  0                1                 0.0\n",
      "2              25.00                  0                4                 0.0\n",
      "3              37.00                  0                1                 0.0\n",
      "4              56.00                  0                1                 0.0\n",
      "...              ...                ...              ...                 ...\n",
      "2581          323.59                  2                2               100.0\n",
      "2582          324.26                  0                2                 0.0\n",
      "2583          324.43                  0                2                 0.0\n",
      "2584          324.73                  0                2                 0.0\n",
      "2585          324.99                  0                2                 0.0\n",
      "\n",
      "[2586 rows x 4 columns]\n",
      "\n",
      "avg_cashbk_per_order\n",
      "      avg_cashbk_per_order  Customers_churned  Total_Customers  \\\n",
      "0                 0.000000                  0                4   \n",
      "1                 1.500000                  0                1   \n",
      "2                 1.666667                  0                1   \n",
      "3                 4.111111                  0                1   \n",
      "4                 4.166667                  0                1   \n",
      "...                    ...                ...              ...   \n",
      "2798            296.360000                  0                2   \n",
      "2799            296.580000                  0                2   \n",
      "2800            297.010000                  0                2   \n",
      "2801            297.400000                  0                2   \n",
      "2802            298.590000                  2                2   \n",
      "\n",
      "      perc_of_total_cust  \n",
      "0                    0.0  \n",
      "1                    0.0  \n",
      "2                    0.0  \n",
      "3                    0.0  \n",
      "4                    0.0  \n",
      "...                  ...  \n",
      "2798                 0.0  \n",
      "2799                 0.0  \n",
      "2800                 0.0  \n",
      "2801                 0.0  \n",
      "2802               100.0  \n",
      "\n",
      "[2803 rows x 4 columns]\n",
      "\n"
     ]
    }
   ],
   "source": [
    "for i in df.columns:\n",
    "    print(i)\n",
    "    print(d[i])\n",
    "    print()"
   ]
  },
  {
   "cell_type": "code",
   "execution_count": null,
   "metadata": {},
   "outputs": [],
   "source": []
  },
  {
   "cell_type": "markdown",
   "metadata": {},
   "source": [
    "### One hot encoding"
   ]
  },
  {
   "cell_type": "code",
   "execution_count": 30,
   "metadata": {},
   "outputs": [
    {
     "data": {
      "text/plain": [
       "Index(['CustomerID', 'Churn', 'Tenure', 'PreferredLoginDevice', 'CityTier',\n",
       "       'WarehouseToHome', 'PreferredPaymentMode', 'Gender', 'HourSpendOnApp',\n",
       "       'NumberOfDeviceRegistered', 'PreferedOrderCat', 'SatisfactionScore',\n",
       "       'MaritalStatus', 'NumberOfAddress', 'Complain',\n",
       "       'OrderAmountHikeFromlastYear', 'CouponUsed', 'OrderCount',\n",
       "       'DaySinceLastOrder', 'CashbackAmount', 'avg_cashbk_per_order'],\n",
       "      dtype='object')"
      ]
     },
     "execution_count": 30,
     "metadata": {},
     "output_type": "execute_result"
    }
   ],
   "source": [
    "df.columns"
   ]
  },
  {
   "cell_type": "code",
   "execution_count": 31,
   "metadata": {},
   "outputs": [],
   "source": [
    "# performing one hot encoding using get_dummies method\n",
    "df=pd.get_dummies(df, columns=['Churn','PreferredLoginDevice', 'CityTier', 'PreferredPaymentMode', \n",
    "                               'Gender', 'PreferedOrderCat', 'MaritalStatus' ],\n",
    "                  drop_first=True)"
   ]
  },
  {
   "cell_type": "code",
   "execution_count": 32,
   "metadata": {},
   "outputs": [],
   "source": [
    "col=['Tenure', 'WarehouseToHome', 'HourSpendOnApp', 'NumberOfDeviceRegistered', 'SatisfactionScore', 'NumberOfAddress', 'Complain', 'OrderAmountHikeFromlastYear', 'CouponUsed', 'OrderCount',\n",
    "           'DaySinceLastOrder', 'CashbackAmount', 'avg_cashbk_per_order' ]\n",
    "\n",
    "for i in col:\n",
    "    df[i]=df[i].astype(float)"
   ]
  },
  {
   "cell_type": "code",
   "execution_count": 33,
   "metadata": {},
   "outputs": [],
   "source": [
    "float_num=[]\n",
    "for i in df.columns:\n",
    "    if df[i].dtype=='float':\n",
    "        float_num.append(i)"
   ]
  },
  {
   "cell_type": "markdown",
   "metadata": {},
   "source": [
    "### Scaling the data"
   ]
  },
  {
   "cell_type": "code",
   "execution_count": 34,
   "metadata": {},
   "outputs": [],
   "source": [
    "from sklearn.preprocessing import StandardScaler\n",
    "\n",
    "scaler=StandardScaler()\n",
    "\n",
    "features=df[float_num]\n",
    "features=scaler.fit_transform(features)"
   ]
  },
  {
   "cell_type": "code",
   "execution_count": 35,
   "metadata": {},
   "outputs": [],
   "source": [
    "df[float_num]=features"
   ]
  },
  {
   "cell_type": "code",
   "execution_count": 36,
   "metadata": {},
   "outputs": [
    {
     "data": {
      "text/html": [
       "<div>\n",
       "<style scoped>\n",
       "    .dataframe tbody tr th:only-of-type {\n",
       "        vertical-align: middle;\n",
       "    }\n",
       "\n",
       "    .dataframe tbody tr th {\n",
       "        vertical-align: top;\n",
       "    }\n",
       "\n",
       "    .dataframe thead th {\n",
       "        text-align: right;\n",
       "    }\n",
       "</style>\n",
       "<table border=\"1\" class=\"dataframe\">\n",
       "  <thead>\n",
       "    <tr style=\"text-align: right;\">\n",
       "      <th></th>\n",
       "      <th>CustomerID</th>\n",
       "      <th>Tenure</th>\n",
       "      <th>WarehouseToHome</th>\n",
       "      <th>HourSpendOnApp</th>\n",
       "      <th>NumberOfDeviceRegistered</th>\n",
       "      <th>SatisfactionScore</th>\n",
       "      <th>NumberOfAddress</th>\n",
       "      <th>Complain</th>\n",
       "      <th>OrderAmountHikeFromlastYear</th>\n",
       "      <th>CouponUsed</th>\n",
       "      <th>...</th>\n",
       "      <th>PreferredPaymentMode_E wallet</th>\n",
       "      <th>PreferredPaymentMode_UPI</th>\n",
       "      <th>Gender_Male</th>\n",
       "      <th>PreferedOrderCat_Grocery</th>\n",
       "      <th>PreferedOrderCat_Laptop &amp; Accessory</th>\n",
       "      <th>PreferedOrderCat_Mobile</th>\n",
       "      <th>PreferedOrderCat_Mobile Phone</th>\n",
       "      <th>PreferedOrderCat_Others</th>\n",
       "      <th>MaritalStatus_Married</th>\n",
       "      <th>MaritalStatus_Single</th>\n",
       "    </tr>\n",
       "  </thead>\n",
       "  <tbody>\n",
       "    <tr>\n",
       "      <th>0</th>\n",
       "      <td>50001</td>\n",
       "      <td>-0.733989</td>\n",
       "      <td>-1.146379</td>\n",
       "      <td>0.092654</td>\n",
       "      <td>-0.672900</td>\n",
       "      <td>-0.772992</td>\n",
       "      <td>1.852616</td>\n",
       "      <td>1.584290</td>\n",
       "      <td>-1.301849</td>\n",
       "      <td>-0.385940</td>\n",
       "      <td>...</td>\n",
       "      <td>0</td>\n",
       "      <td>0</td>\n",
       "      <td>0</td>\n",
       "      <td>0</td>\n",
       "      <td>1</td>\n",
       "      <td>0</td>\n",
       "      <td>0</td>\n",
       "      <td>0</td>\n",
       "      <td>0</td>\n",
       "      <td>1</td>\n",
       "    </tr>\n",
       "    <tr>\n",
       "      <th>1</th>\n",
       "      <td>50002</td>\n",
       "      <td>-0.135704</td>\n",
       "      <td>-0.906721</td>\n",
       "      <td>0.092654</td>\n",
       "      <td>0.303750</td>\n",
       "      <td>-0.048392</td>\n",
       "      <td>1.078430</td>\n",
       "      <td>1.584290</td>\n",
       "      <td>-0.187872</td>\n",
       "      <td>-0.924305</td>\n",
       "      <td>...</td>\n",
       "      <td>0</td>\n",
       "      <td>1</td>\n",
       "      <td>1</td>\n",
       "      <td>0</td>\n",
       "      <td>0</td>\n",
       "      <td>1</td>\n",
       "      <td>0</td>\n",
       "      <td>0</td>\n",
       "      <td>0</td>\n",
       "      <td>1</td>\n",
       "    </tr>\n",
       "    <tr>\n",
       "      <th>2</th>\n",
       "      <td>50003</td>\n",
       "      <td>-0.135704</td>\n",
       "      <td>1.729519</td>\n",
       "      <td>-1.324850</td>\n",
       "      <td>0.303750</td>\n",
       "      <td>-0.048392</td>\n",
       "      <td>0.691336</td>\n",
       "      <td>1.584290</td>\n",
       "      <td>-0.466367</td>\n",
       "      <td>-0.924305</td>\n",
       "      <td>...</td>\n",
       "      <td>0</td>\n",
       "      <td>0</td>\n",
       "      <td>1</td>\n",
       "      <td>0</td>\n",
       "      <td>0</td>\n",
       "      <td>1</td>\n",
       "      <td>0</td>\n",
       "      <td>0</td>\n",
       "      <td>0</td>\n",
       "      <td>1</td>\n",
       "    </tr>\n",
       "    <tr>\n",
       "      <th>3</th>\n",
       "      <td>50004</td>\n",
       "      <td>-1.212618</td>\n",
       "      <td>-0.067917</td>\n",
       "      <td>-1.324850</td>\n",
       "      <td>0.303750</td>\n",
       "      <td>1.400807</td>\n",
       "      <td>1.465523</td>\n",
       "      <td>-0.631198</td>\n",
       "      <td>2.040082</td>\n",
       "      <td>-0.924305</td>\n",
       "      <td>...</td>\n",
       "      <td>0</td>\n",
       "      <td>0</td>\n",
       "      <td>1</td>\n",
       "      <td>0</td>\n",
       "      <td>1</td>\n",
       "      <td>0</td>\n",
       "      <td>0</td>\n",
       "      <td>0</td>\n",
       "      <td>0</td>\n",
       "      <td>1</td>\n",
       "    </tr>\n",
       "    <tr>\n",
       "      <th>4</th>\n",
       "      <td>50005</td>\n",
       "      <td>-1.212618</td>\n",
       "      <td>-0.427405</td>\n",
       "      <td>0.092654</td>\n",
       "      <td>-0.672900</td>\n",
       "      <td>1.400807</td>\n",
       "      <td>-0.469944</td>\n",
       "      <td>-0.631198</td>\n",
       "      <td>-1.301849</td>\n",
       "      <td>-0.385940</td>\n",
       "      <td>...</td>\n",
       "      <td>0</td>\n",
       "      <td>0</td>\n",
       "      <td>1</td>\n",
       "      <td>0</td>\n",
       "      <td>0</td>\n",
       "      <td>1</td>\n",
       "      <td>0</td>\n",
       "      <td>0</td>\n",
       "      <td>0</td>\n",
       "      <td>1</td>\n",
       "    </tr>\n",
       "    <tr>\n",
       "      <th>...</th>\n",
       "      <td>...</td>\n",
       "      <td>...</td>\n",
       "      <td>...</td>\n",
       "      <td>...</td>\n",
       "      <td>...</td>\n",
       "      <td>...</td>\n",
       "      <td>...</td>\n",
       "      <td>...</td>\n",
       "      <td>...</td>\n",
       "      <td>...</td>\n",
       "      <td>...</td>\n",
       "      <td>...</td>\n",
       "      <td>...</td>\n",
       "      <td>...</td>\n",
       "      <td>...</td>\n",
       "      <td>...</td>\n",
       "      <td>...</td>\n",
       "      <td>...</td>\n",
       "      <td>...</td>\n",
       "      <td>...</td>\n",
       "      <td>...</td>\n",
       "    </tr>\n",
       "    <tr>\n",
       "      <th>5625</th>\n",
       "      <td>55626</td>\n",
       "      <td>-0.016046</td>\n",
       "      <td>1.729519</td>\n",
       "      <td>0.092654</td>\n",
       "      <td>-1.649551</td>\n",
       "      <td>-1.497592</td>\n",
       "      <td>0.691336</td>\n",
       "      <td>-0.631198</td>\n",
       "      <td>0.647610</td>\n",
       "      <td>-0.385940</td>\n",
       "      <td>...</td>\n",
       "      <td>0</td>\n",
       "      <td>0</td>\n",
       "      <td>1</td>\n",
       "      <td>0</td>\n",
       "      <td>1</td>\n",
       "      <td>0</td>\n",
       "      <td>0</td>\n",
       "      <td>0</td>\n",
       "      <td>1</td>\n",
       "      <td>0</td>\n",
       "    </tr>\n",
       "    <tr>\n",
       "      <th>5626</th>\n",
       "      <td>55627</td>\n",
       "      <td>0.342925</td>\n",
       "      <td>-0.307575</td>\n",
       "      <td>0.092654</td>\n",
       "      <td>1.280401</td>\n",
       "      <td>1.400807</td>\n",
       "      <td>0.691336</td>\n",
       "      <td>-0.631198</td>\n",
       "      <td>0.090622</td>\n",
       "      <td>-0.385940</td>\n",
       "      <td>...</td>\n",
       "      <td>0</td>\n",
       "      <td>0</td>\n",
       "      <td>1</td>\n",
       "      <td>0</td>\n",
       "      <td>0</td>\n",
       "      <td>0</td>\n",
       "      <td>0</td>\n",
       "      <td>0</td>\n",
       "      <td>1</td>\n",
       "      <td>0</td>\n",
       "    </tr>\n",
       "    <tr>\n",
       "      <th>5627</th>\n",
       "      <td>55628</td>\n",
       "      <td>-1.092961</td>\n",
       "      <td>-0.547234</td>\n",
       "      <td>0.092654</td>\n",
       "      <td>-1.649551</td>\n",
       "      <td>0.676207</td>\n",
       "      <td>-0.469944</td>\n",
       "      <td>1.584290</td>\n",
       "      <td>1.483093</td>\n",
       "      <td>-0.385940</td>\n",
       "      <td>...</td>\n",
       "      <td>0</td>\n",
       "      <td>0</td>\n",
       "      <td>1</td>\n",
       "      <td>0</td>\n",
       "      <td>1</td>\n",
       "      <td>0</td>\n",
       "      <td>0</td>\n",
       "      <td>0</td>\n",
       "      <td>1</td>\n",
       "      <td>0</td>\n",
       "    </tr>\n",
       "    <tr>\n",
       "      <th>5628</th>\n",
       "      <td>55629</td>\n",
       "      <td>1.539497</td>\n",
       "      <td>-0.786892</td>\n",
       "      <td>1.510158</td>\n",
       "      <td>1.280401</td>\n",
       "      <td>0.676207</td>\n",
       "      <td>-0.082850</td>\n",
       "      <td>-0.631198</td>\n",
       "      <td>-0.187872</td>\n",
       "      <td>0.152425</td>\n",
       "      <td>...</td>\n",
       "      <td>0</td>\n",
       "      <td>0</td>\n",
       "      <td>1</td>\n",
       "      <td>0</td>\n",
       "      <td>1</td>\n",
       "      <td>0</td>\n",
       "      <td>0</td>\n",
       "      <td>0</td>\n",
       "      <td>1</td>\n",
       "      <td>0</td>\n",
       "    </tr>\n",
       "    <tr>\n",
       "      <th>5629</th>\n",
       "      <td>55630</td>\n",
       "      <td>-0.255361</td>\n",
       "      <td>-0.067917</td>\n",
       "      <td>0.092654</td>\n",
       "      <td>-1.649551</td>\n",
       "      <td>-0.048392</td>\n",
       "      <td>-0.082850</td>\n",
       "      <td>-0.631198</td>\n",
       "      <td>-0.744861</td>\n",
       "      <td>0.152425</td>\n",
       "      <td>...</td>\n",
       "      <td>0</td>\n",
       "      <td>0</td>\n",
       "      <td>1</td>\n",
       "      <td>0</td>\n",
       "      <td>1</td>\n",
       "      <td>0</td>\n",
       "      <td>0</td>\n",
       "      <td>0</td>\n",
       "      <td>1</td>\n",
       "      <td>0</td>\n",
       "    </tr>\n",
       "  </tbody>\n",
       "</table>\n",
       "<p>5630 rows × 33 columns</p>\n",
       "</div>"
      ],
      "text/plain": [
       "      CustomerID    Tenure  WarehouseToHome  HourSpendOnApp  \\\n",
       "0          50001 -0.733989        -1.146379        0.092654   \n",
       "1          50002 -0.135704        -0.906721        0.092654   \n",
       "2          50003 -0.135704         1.729519       -1.324850   \n",
       "3          50004 -1.212618        -0.067917       -1.324850   \n",
       "4          50005 -1.212618        -0.427405        0.092654   \n",
       "...          ...       ...              ...             ...   \n",
       "5625       55626 -0.016046         1.729519        0.092654   \n",
       "5626       55627  0.342925        -0.307575        0.092654   \n",
       "5627       55628 -1.092961        -0.547234        0.092654   \n",
       "5628       55629  1.539497        -0.786892        1.510158   \n",
       "5629       55630 -0.255361        -0.067917        0.092654   \n",
       "\n",
       "      NumberOfDeviceRegistered  SatisfactionScore  NumberOfAddress  Complain  \\\n",
       "0                    -0.672900          -0.772992         1.852616  1.584290   \n",
       "1                     0.303750          -0.048392         1.078430  1.584290   \n",
       "2                     0.303750          -0.048392         0.691336  1.584290   \n",
       "3                     0.303750           1.400807         1.465523 -0.631198   \n",
       "4                    -0.672900           1.400807        -0.469944 -0.631198   \n",
       "...                        ...                ...              ...       ...   \n",
       "5625                 -1.649551          -1.497592         0.691336 -0.631198   \n",
       "5626                  1.280401           1.400807         0.691336 -0.631198   \n",
       "5627                 -1.649551           0.676207        -0.469944  1.584290   \n",
       "5628                  1.280401           0.676207        -0.082850 -0.631198   \n",
       "5629                 -1.649551          -0.048392        -0.082850 -0.631198   \n",
       "\n",
       "      OrderAmountHikeFromlastYear  CouponUsed  ...  \\\n",
       "0                       -1.301849   -0.385940  ...   \n",
       "1                       -0.187872   -0.924305  ...   \n",
       "2                       -0.466367   -0.924305  ...   \n",
       "3                        2.040082   -0.924305  ...   \n",
       "4                       -1.301849   -0.385940  ...   \n",
       "...                           ...         ...  ...   \n",
       "5625                     0.647610   -0.385940  ...   \n",
       "5626                     0.090622   -0.385940  ...   \n",
       "5627                     1.483093   -0.385940  ...   \n",
       "5628                    -0.187872    0.152425  ...   \n",
       "5629                    -0.744861    0.152425  ...   \n",
       "\n",
       "      PreferredPaymentMode_E wallet  PreferredPaymentMode_UPI  Gender_Male  \\\n",
       "0                                 0                         0            0   \n",
       "1                                 0                         1            1   \n",
       "2                                 0                         0            1   \n",
       "3                                 0                         0            1   \n",
       "4                                 0                         0            1   \n",
       "...                             ...                       ...          ...   \n",
       "5625                              0                         0            1   \n",
       "5626                              0                         0            1   \n",
       "5627                              0                         0            1   \n",
       "5628                              0                         0            1   \n",
       "5629                              0                         0            1   \n",
       "\n",
       "      PreferedOrderCat_Grocery  PreferedOrderCat_Laptop & Accessory  \\\n",
       "0                            0                                    1   \n",
       "1                            0                                    0   \n",
       "2                            0                                    0   \n",
       "3                            0                                    1   \n",
       "4                            0                                    0   \n",
       "...                        ...                                  ...   \n",
       "5625                         0                                    1   \n",
       "5626                         0                                    0   \n",
       "5627                         0                                    1   \n",
       "5628                         0                                    1   \n",
       "5629                         0                                    1   \n",
       "\n",
       "      PreferedOrderCat_Mobile  PreferedOrderCat_Mobile Phone  \\\n",
       "0                           0                              0   \n",
       "1                           1                              0   \n",
       "2                           1                              0   \n",
       "3                           0                              0   \n",
       "4                           1                              0   \n",
       "...                       ...                            ...   \n",
       "5625                        0                              0   \n",
       "5626                        0                              0   \n",
       "5627                        0                              0   \n",
       "5628                        0                              0   \n",
       "5629                        0                              0   \n",
       "\n",
       "      PreferedOrderCat_Others  MaritalStatus_Married  MaritalStatus_Single  \n",
       "0                           0                      0                     1  \n",
       "1                           0                      0                     1  \n",
       "2                           0                      0                     1  \n",
       "3                           0                      0                     1  \n",
       "4                           0                      0                     1  \n",
       "...                       ...                    ...                   ...  \n",
       "5625                        0                      1                     0  \n",
       "5626                        0                      1                     0  \n",
       "5627                        0                      1                     0  \n",
       "5628                        0                      1                     0  \n",
       "5629                        0                      1                     0  \n",
       "\n",
       "[5630 rows x 33 columns]"
      ]
     },
     "execution_count": 36,
     "metadata": {},
     "output_type": "execute_result"
    }
   ],
   "source": [
    "df"
   ]
  },
  {
   "cell_type": "markdown",
   "metadata": {},
   "source": [
    "### Test_Train_Split"
   ]
  },
  {
   "cell_type": "code",
   "execution_count": 37,
   "metadata": {},
   "outputs": [],
   "source": [
    "from sklearn.model_selection import train_test_split"
   ]
  },
  {
   "cell_type": "code",
   "execution_count": 38,
   "metadata": {},
   "outputs": [],
   "source": [
    "#creating feature variable X and Target variable Y\n",
    "\n",
    "X = df.drop(['Churn_1','CustomerID'],axis=1)\n",
    "y = df['Churn_1']\n",
    "\n",
    "# splitting the dataset into training set(80%) and test set(20%)\n",
    "X_train, X_test, y_train, y_test = train_test_split(X,y, test_size=0.2, random_state=12)"
   ]
  },
  {
   "cell_type": "markdown",
   "metadata": {},
   "source": [
    "### Building Classification models"
   ]
  },
  {
   "cell_type": "markdown",
   "metadata": {},
   "source": [
    "### Logistic Regression"
   ]
  },
  {
   "cell_type": "code",
   "execution_count": 39,
   "metadata": {},
   "outputs": [],
   "source": [
    "from sklearn.linear_model import LogisticRegression\n"
   ]
  },
  {
   "cell_type": "code",
   "execution_count": 40,
   "metadata": {},
   "outputs": [
    {
     "data": {
      "text/plain": [
       "LogisticRegression()"
      ]
     },
     "execution_count": 40,
     "metadata": {},
     "output_type": "execute_result"
    }
   ],
   "source": [
    "model_lr = LogisticRegression()\n",
    "model_lr.fit(X_train, y_train)"
   ]
  },
  {
   "cell_type": "code",
   "execution_count": 41,
   "metadata": {},
   "outputs": [],
   "source": [
    "#predicting the value for new data\n",
    "ytest_predict = model_lr.predict(X_test)"
   ]
  },
  {
   "cell_type": "code",
   "execution_count": 42,
   "metadata": {},
   "outputs": [
    {
     "name": "stdout",
     "output_type": "stream",
     "text": [
      "89.52042628774423 %\n"
     ]
    }
   ],
   "source": [
    "# Accuracy - Test Data\n",
    "log_model_score= (model_lr.score(X_test, y_test)*100 )\n",
    "print(log_model_score, '%')"
   ]
  },
  {
   "cell_type": "markdown",
   "metadata": {},
   "source": [
    "### SVM"
   ]
  },
  {
   "cell_type": "code",
   "execution_count": 43,
   "metadata": {},
   "outputs": [],
   "source": [
    "from sklearn.svm import SVC"
   ]
  },
  {
   "cell_type": "code",
   "execution_count": 44,
   "metadata": {},
   "outputs": [
    {
     "data": {
      "text/plain": [
       "SVC(kernel='linear', probability=True)"
      ]
     },
     "execution_count": 44,
     "metadata": {},
     "output_type": "execute_result"
    }
   ],
   "source": [
    "model_svm = SVC(kernel=\"linear\", probability=True)\n",
    "model_svm.fit(X_train, y_train)\n",
    "\n"
   ]
  },
  {
   "cell_type": "code",
   "execution_count": 45,
   "metadata": {},
   "outputs": [],
   "source": [
    "#predicting the value for new data\n",
    "ytest_predict = model_svm.predict(X_test)"
   ]
  },
  {
   "cell_type": "code",
   "execution_count": 46,
   "metadata": {},
   "outputs": [
    {
     "name": "stdout",
     "output_type": "stream",
     "text": [
      "88.72113676731794 %\n"
     ]
    }
   ],
   "source": [
    "# Accuracy - Test Data\n",
    "svm_model_score= (model_svm.score(X_test, y_test)*100 )\n",
    "print(svm_model_score, '%')"
   ]
  },
  {
   "cell_type": "markdown",
   "metadata": {},
   "source": [
    "### Dicision Tree"
   ]
  },
  {
   "cell_type": "code",
   "execution_count": 47,
   "metadata": {},
   "outputs": [
    {
     "data": {
      "text/plain": [
       "DecisionTreeClassifier()"
      ]
     },
     "execution_count": 47,
     "metadata": {},
     "output_type": "execute_result"
    }
   ],
   "source": [
    "from sklearn import tree\n",
    "DT_model= tree.DecisionTreeClassifier()\n",
    "DT_model.fit(X_train, y_train)"
   ]
  },
  {
   "cell_type": "code",
   "execution_count": 48,
   "metadata": {},
   "outputs": [
    {
     "name": "stdout",
     "output_type": "stream",
     "text": [
      "96.00355239786856 %\n"
     ]
    }
   ],
   "source": [
    "## predicting the value for new data\n",
    "y_test_predict = DT_model.predict(X_test)\n",
    "\n",
    "#Accuracy\n",
    "dt_model_score = (DT_model.score(X_test, y_test)*100)\n",
    "print(dt_model_score, '%')\n",
    "\n",
    "\n"
   ]
  },
  {
   "cell_type": "markdown",
   "metadata": {},
   "source": [
    "### Random Forest"
   ]
  },
  {
   "cell_type": "code",
   "execution_count": 49,
   "metadata": {},
   "outputs": [
    {
     "data": {
      "text/plain": [
       "RandomForestClassifier(random_state=1)"
      ]
     },
     "execution_count": 49,
     "metadata": {},
     "output_type": "execute_result"
    }
   ],
   "source": [
    "from sklearn.ensemble import RandomForestClassifier\n",
    "\n",
    "RF_model=RandomForestClassifier(n_estimators=100,random_state=1)\n",
    "RF_model.fit(X_train, y_train)"
   ]
  },
  {
   "cell_type": "code",
   "execution_count": 50,
   "metadata": {},
   "outputs": [
    {
     "name": "stdout",
     "output_type": "stream",
     "text": [
      "96.89165186500888 %\n"
     ]
    }
   ],
   "source": [
    "## Predicting the value for new data\n",
    "y_test_predict = RF_model.predict(X_test)\n",
    "\n",
    "# Accuracy\n",
    "Rf_model_score = (RF_model.score(X_test, y_test)*100)\n",
    "print(Rf_model_score, \"%\")\n"
   ]
  },
  {
   "cell_type": "markdown",
   "metadata": {},
   "source": [
    "### KNN Model"
   ]
  },
  {
   "cell_type": "code",
   "execution_count": 51,
   "metadata": {},
   "outputs": [
    {
     "data": {
      "text/plain": [
       "KNeighborsClassifier()"
      ]
     },
     "execution_count": 51,
     "metadata": {},
     "output_type": "execute_result"
    }
   ],
   "source": [
    "from sklearn.neighbors import KNeighborsClassifier\n",
    "\n",
    "KNN_model=KNeighborsClassifier()\n",
    "KNN_model.fit(X_train,y_train)"
   ]
  },
  {
   "cell_type": "code",
   "execution_count": 52,
   "metadata": {},
   "outputs": [
    {
     "name": "stdout",
     "output_type": "stream",
     "text": [
      "91.1190053285968 %\n"
     ]
    }
   ],
   "source": [
    "## Predicting the value for new data\n",
    "y_test_predict = KNN_model.predict(X_test)\n",
    "\n",
    "#Accuracy\n",
    "knn_model_score = (KNN_model.score(X_test, y_test)*100)\n",
    "print(knn_model_score, \"%\")\n"
   ]
  },
  {
   "cell_type": "code",
   "execution_count": 53,
   "metadata": {},
   "outputs": [
    {
     "data": {
      "text/html": [
       "<div>\n",
       "<style scoped>\n",
       "    .dataframe tbody tr th:only-of-type {\n",
       "        vertical-align: middle;\n",
       "    }\n",
       "\n",
       "    .dataframe tbody tr th {\n",
       "        vertical-align: top;\n",
       "    }\n",
       "\n",
       "    .dataframe thead th {\n",
       "        text-align: right;\n",
       "    }\n",
       "</style>\n",
       "<table border=\"1\" class=\"dataframe\">\n",
       "  <thead>\n",
       "    <tr style=\"text-align: right;\">\n",
       "      <th></th>\n",
       "      <th>Score/Accuracy</th>\n",
       "      <th>Model</th>\n",
       "    </tr>\n",
       "  </thead>\n",
       "  <tbody>\n",
       "    <tr>\n",
       "      <th>0</th>\n",
       "      <td>89.520426</td>\n",
       "      <td>Logistic Regression</td>\n",
       "    </tr>\n",
       "    <tr>\n",
       "      <th>1</th>\n",
       "      <td>88.721137</td>\n",
       "      <td>Support Vector Machine</td>\n",
       "    </tr>\n",
       "    <tr>\n",
       "      <th>2</th>\n",
       "      <td>96.003552</td>\n",
       "      <td>Decision Tree</td>\n",
       "    </tr>\n",
       "    <tr>\n",
       "      <th>3</th>\n",
       "      <td>96.891652</td>\n",
       "      <td>Random Forest</td>\n",
       "    </tr>\n",
       "    <tr>\n",
       "      <th>4</th>\n",
       "      <td>91.119005</td>\n",
       "      <td>K-Nearest Neighbour</td>\n",
       "    </tr>\n",
       "  </tbody>\n",
       "</table>\n",
       "</div>"
      ],
      "text/plain": [
       "   Score/Accuracy                   Model\n",
       "0       89.520426     Logistic Regression\n",
       "1       88.721137  Support Vector Machine\n",
       "2       96.003552           Decision Tree\n",
       "3       96.891652           Random Forest\n",
       "4       91.119005     K-Nearest Neighbour"
      ]
     },
     "execution_count": 53,
     "metadata": {},
     "output_type": "execute_result"
    }
   ],
   "source": [
    "#comparing accuracy score of several models\n",
    "Models=pd.DataFrame({\n",
    "    \"Model\":[\"Logistic Regression\",\"Support Vector Machine\",\"Decision Tree\",\"Random Forest\",\"K-Nearest Neighbour\"],\n",
    "    \"Score/Accuracy\":[log_model_score,svm_model_score,dt_model_score,Rf_model_score,knn_model_score]\n",
    "})\n",
    "\n",
    "Model_df=Models.sort_values(by='Score/Accuracy',ascending=False)\n",
    "Model_df=Models.set_index(\"Score/Accuracy\")\n",
    "Model_df.reset_index()"
   ]
  },
  {
   "cell_type": "markdown",
   "metadata": {},
   "source": [
    "#### Confusion matrix  for Highest accuracy model"
   ]
  },
  {
   "cell_type": "code",
   "execution_count": 54,
   "metadata": {},
   "outputs": [
    {
     "data": {
      "text/plain": [
       "array([[924,  19],\n",
       "       [ 81, 102]], dtype=int64)"
      ]
     },
     "execution_count": 54,
     "metadata": {},
     "output_type": "execute_result"
    }
   ],
   "source": [
    "# confusion matrix for random forest model\n",
    "from sklearn.metrics  import confusion_matrix\n",
    "con_matrix=  confusion_matrix(y_test,y_test_predict)\n",
    "con_matrix "
   ]
  },
  {
   "cell_type": "code",
   "execution_count": 55,
   "metadata": {},
   "outputs": [],
   "source": [
    "#predicting Probability of churn of each customer\n",
    "\n",
    "df[\"Probability_of_Churn\"]=RF_model.predict_proba(df[X_test.columns])[:,1]"
   ]
  },
  {
   "cell_type": "code",
   "execution_count": 56,
   "metadata": {},
   "outputs": [
    {
     "data": {
      "text/html": [
       "<div>\n",
       "<style scoped>\n",
       "    .dataframe tbody tr th:only-of-type {\n",
       "        vertical-align: middle;\n",
       "    }\n",
       "\n",
       "    .dataframe tbody tr th {\n",
       "        vertical-align: top;\n",
       "    }\n",
       "\n",
       "    .dataframe thead th {\n",
       "        text-align: right;\n",
       "    }\n",
       "</style>\n",
       "<table border=\"1\" class=\"dataframe\">\n",
       "  <thead>\n",
       "    <tr style=\"text-align: right;\">\n",
       "      <th></th>\n",
       "      <th>CustomerID</th>\n",
       "      <th>Probability_of_Churn</th>\n",
       "    </tr>\n",
       "  </thead>\n",
       "  <tbody>\n",
       "    <tr>\n",
       "      <th>0</th>\n",
       "      <td>50001</td>\n",
       "      <td>0.66</td>\n",
       "    </tr>\n",
       "    <tr>\n",
       "      <th>1</th>\n",
       "      <td>50002</td>\n",
       "      <td>0.98</td>\n",
       "    </tr>\n",
       "    <tr>\n",
       "      <th>2</th>\n",
       "      <td>50003</td>\n",
       "      <td>0.96</td>\n",
       "    </tr>\n",
       "    <tr>\n",
       "      <th>3</th>\n",
       "      <td>50004</td>\n",
       "      <td>0.70</td>\n",
       "    </tr>\n",
       "    <tr>\n",
       "      <th>4</th>\n",
       "      <td>50005</td>\n",
       "      <td>0.66</td>\n",
       "    </tr>\n",
       "    <tr>\n",
       "      <th>5</th>\n",
       "      <td>50006</td>\n",
       "      <td>0.95</td>\n",
       "    </tr>\n",
       "    <tr>\n",
       "      <th>6</th>\n",
       "      <td>50007</td>\n",
       "      <td>0.62</td>\n",
       "    </tr>\n",
       "    <tr>\n",
       "      <th>7</th>\n",
       "      <td>50008</td>\n",
       "      <td>0.75</td>\n",
       "    </tr>\n",
       "    <tr>\n",
       "      <th>8</th>\n",
       "      <td>50009</td>\n",
       "      <td>0.78</td>\n",
       "    </tr>\n",
       "    <tr>\n",
       "      <th>9</th>\n",
       "      <td>50010</td>\n",
       "      <td>0.89</td>\n",
       "    </tr>\n",
       "    <tr>\n",
       "      <th>10</th>\n",
       "      <td>50011</td>\n",
       "      <td>0.86</td>\n",
       "    </tr>\n",
       "    <tr>\n",
       "      <th>11</th>\n",
       "      <td>50012</td>\n",
       "      <td>0.93</td>\n",
       "    </tr>\n",
       "    <tr>\n",
       "      <th>12</th>\n",
       "      <td>50013</td>\n",
       "      <td>0.90</td>\n",
       "    </tr>\n",
       "    <tr>\n",
       "      <th>13</th>\n",
       "      <td>50014</td>\n",
       "      <td>0.71</td>\n",
       "    </tr>\n",
       "    <tr>\n",
       "      <th>14</th>\n",
       "      <td>50015</td>\n",
       "      <td>0.85</td>\n",
       "    </tr>\n",
       "    <tr>\n",
       "      <th>15</th>\n",
       "      <td>50016</td>\n",
       "      <td>0.85</td>\n",
       "    </tr>\n",
       "    <tr>\n",
       "      <th>16</th>\n",
       "      <td>50017</td>\n",
       "      <td>0.80</td>\n",
       "    </tr>\n",
       "    <tr>\n",
       "      <th>17</th>\n",
       "      <td>50018</td>\n",
       "      <td>0.88</td>\n",
       "    </tr>\n",
       "    <tr>\n",
       "      <th>18</th>\n",
       "      <td>50019</td>\n",
       "      <td>0.97</td>\n",
       "    </tr>\n",
       "    <tr>\n",
       "      <th>19</th>\n",
       "      <td>50020</td>\n",
       "      <td>0.78</td>\n",
       "    </tr>\n",
       "  </tbody>\n",
       "</table>\n",
       "</div>"
      ],
      "text/plain": [
       "    CustomerID  Probability_of_Churn\n",
       "0        50001                  0.66\n",
       "1        50002                  0.98\n",
       "2        50003                  0.96\n",
       "3        50004                  0.70\n",
       "4        50005                  0.66\n",
       "5        50006                  0.95\n",
       "6        50007                  0.62\n",
       "7        50008                  0.75\n",
       "8        50009                  0.78\n",
       "9        50010                  0.89\n",
       "10       50011                  0.86\n",
       "11       50012                  0.93\n",
       "12       50013                  0.90\n",
       "13       50014                  0.71\n",
       "14       50015                  0.85\n",
       "15       50016                  0.85\n",
       "16       50017                  0.80\n",
       "17       50018                  0.88\n",
       "18       50019                  0.97\n",
       "19       50020                  0.78"
      ]
     },
     "execution_count": 56,
     "metadata": {},
     "output_type": "execute_result"
    }
   ],
   "source": [
    "df[[\"CustomerID\",\"Probability_of_Churn\"]].head(20)"
   ]
  }
 ],
 "metadata": {
  "kernelspec": {
   "display_name": "Python 3",
   "language": "python",
   "name": "python3"
  },
  "language_info": {
   "codemirror_mode": {
    "name": "ipython",
    "version": 3
   },
   "file_extension": ".py",
   "mimetype": "text/x-python",
   "name": "python",
   "nbconvert_exporter": "python",
   "pygments_lexer": "ipython3",
   "version": "3.8.5"
  }
 },
 "nbformat": 4,
 "nbformat_minor": 4
}
